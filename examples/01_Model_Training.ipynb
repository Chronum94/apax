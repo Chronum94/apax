{
 "cells": [
  {
   "cell_type": "markdown",
   "metadata": {},
   "source": [
    "# Model Training\n",
    "\n",
    "In this tutorial we are going to train a model from scratch on a molecular dataset from the MD17 collection.\n",
    "Start by creating a project folder and downloading the dataset.\n",
    "\n",
    "## Acquiring a dataset\n",
    "\n",
    "You can obtain the benzene dataset with DFT labels either by running the following command or manually from this [link](http://www.quantum-machine.org/gdml/data/xyz/benzene2018_dft.zip). Apax uses ASE to read in datasets, so make sure to convert your own data into an ASE readable format (extxyz, traj etc). Be carefull the downloaded dataset has to be modified like in the `apax.untils.dataset.mop_md17` function in order to be readable."
   ]
  },
  {
   "cell_type": "code",
   "execution_count": 1,
   "metadata": {},
   "outputs": [],
   "source": [
    "from pathlib import Path\n",
    "from apax.utils.datasets import download_md17_benzene_DFT, mod_md17\n",
    "\n",
    "data_path = Path(\"project\")\n",
    "\n",
    "file_path = download_md17_benzene_DFT(data_path)\n",
    "file_path = mod_md17(file_path)\n",
    "\n"
   ]
  },
  {
   "cell_type": "markdown",
   "metadata": {},
   "source": [
    "## Configuration files\n",
    "\n",
    "Next, we require a configuration file that specifies the model and training parameters.\n",
    "In order to get users quickly up and running, our command line interface provides an easy way to generate input templates.\n",
    "The provided templates come in in two levels of verbosity: minimal and full.\n",
    "In the following we are going to use a minimal input file. To see a complete list and explanation of all parameters, consult the documentation page LINK.\n",
    "For more information on the CLI,  simply run `apax -h`."
   ]
  },
  {
   "cell_type": "code",
   "execution_count": 2,
   "metadata": {},
   "outputs": [
    {
     "name": "stderr",
     "output_type": "stream",
     "text": [
      "/home/linux3_i1/segreto/miniconda3/envs/apax/lib/python3.11/pty.py:89: RuntimeWarning: os.fork() was called. os.fork() is incompatible with multithreaded code, and JAX is multithreaded, so this will likely lead to a deadlock.\n",
      "  pid, fd = os.forkpty()\n"
     ]
    },
    {
     "name": "stdout",
     "output_type": "stream",
     "text": [
      "\u001b[1m                                                                                \u001b[0m\n",
      "\u001b[1m \u001b[0m\u001b[1;33mUsage: \u001b[0m\u001b[1mapax [OPTIONS] COMMAND [ARGS]...\u001b[0m\u001b[1m                                       \u001b[0m\u001b[1m \u001b[0m\n",
      "\u001b[1m                                                                                \u001b[0m\n",
      "\u001b[2m╭─\u001b[0m\u001b[2m Options \u001b[0m\u001b[2m───────────────────────────────────────────────────────────────────\u001b[0m\u001b[2m─╮\u001b[0m\n",
      "\u001b[2m│\u001b[0m \u001b[1;36m-\u001b[0m\u001b[1;36m-version\u001b[0m             \u001b[1;32m-V\u001b[0m                                                     \u001b[2m│\u001b[0m\n",
      "\u001b[2m│\u001b[0m \u001b[1;36m-\u001b[0m\u001b[1;36m-install\u001b[0m\u001b[1;36m-completion\u001b[0m            Install completion for the current shell.    \u001b[2m│\u001b[0m\n",
      "\u001b[2m│\u001b[0m \u001b[1;36m-\u001b[0m\u001b[1;36m-show\u001b[0m\u001b[1;36m-completion\u001b[0m               Show completion for the current shell, to    \u001b[2m│\u001b[0m\n",
      "\u001b[2m│\u001b[0m                                 copy it or customize the installation.       \u001b[2m│\u001b[0m\n",
      "\u001b[2m│\u001b[0m \u001b[1;36m-\u001b[0m\u001b[1;36m-help\u001b[0m                \u001b[1;32m-h\u001b[0m        Show this message and exit.                  \u001b[2m│\u001b[0m\n",
      "\u001b[2m╰──────────────────────────────────────────────────────────────────────────────╯\u001b[0m\n",
      "\u001b[2m╭─\u001b[0m\u001b[2m Commands \u001b[0m\u001b[2m──────────────────────────────────────────────────────────────────\u001b[0m\u001b[2m─╮\u001b[0m\n",
      "\u001b[2m│\u001b[0m \u001b[1;36mdocs     \u001b[0m\u001b[1;36m \u001b[0m Opens the documentation website in your browser.                  \u001b[2m│\u001b[0m\n",
      "\u001b[2m│\u001b[0m \u001b[1;36meval     \u001b[0m\u001b[1;36m \u001b[0m Starts performing the evaluation of the test dataset with         \u001b[2m│\u001b[0m\n",
      "\u001b[2m│\u001b[0m \u001b[1;36m          \u001b[0m parameters provided by a configuration file.                      \u001b[2m│\u001b[0m\n",
      "\u001b[2m│\u001b[0m \u001b[1;36mmd       \u001b[0m\u001b[1;36m \u001b[0m Starts performing a molecular dynamics simulation (currently only \u001b[2m│\u001b[0m\n",
      "\u001b[2m│\u001b[0m \u001b[1;36m          \u001b[0m NHC thermostat) with parameters provided by a configuration file. \u001b[2m│\u001b[0m\n",
      "\u001b[2m│\u001b[0m \u001b[1;36mtemplate \u001b[0m\u001b[1;36m \u001b[0m Create configuration file templates.                              \u001b[2m│\u001b[0m\n",
      "\u001b[2m│\u001b[0m \u001b[1;36mtrain    \u001b[0m\u001b[1;36m \u001b[0m Starts the training of a model with parameters provided by a      \u001b[2m│\u001b[0m\n",
      "\u001b[2m│\u001b[0m \u001b[1;36m          \u001b[0m configuration file.                                               \u001b[2m│\u001b[0m\n",
      "\u001b[2m│\u001b[0m \u001b[1;36mvalidate \u001b[0m\u001b[1;36m \u001b[0m Validate training or MD config files.                             \u001b[2m│\u001b[0m\n",
      "\u001b[2m│\u001b[0m \u001b[1;36mvisualize\u001b[0m\u001b[1;36m \u001b[0m Visualize a model based on a configuration file. A CO molecule is \u001b[2m│\u001b[0m\n",
      "\u001b[2m│\u001b[0m \u001b[1;36m          \u001b[0m taken as sample input (influences number of atoms, number of      \u001b[2m│\u001b[0m\n",
      "\u001b[2m│\u001b[0m \u001b[1;36m          \u001b[0m species is set to 10).                                            \u001b[2m│\u001b[0m\n",
      "\u001b[2m╰──────────────────────────────────────────────────────────────────────────────╯\u001b[0m\n",
      "\n"
     ]
    }
   ],
   "source": [
    "!apax -h"
   ]
  },
  {
   "cell_type": "code",
   "execution_count": 3,
   "metadata": {},
   "outputs": [
    {
     "name": "stdout",
     "output_type": "stream",
     "text": [
      "There is already a config file in the working directory.\n"
     ]
    }
   ],
   "source": [
    "!apax template train"
   ]
  },
  {
   "cell_type": "code",
   "execution_count": 4,
   "metadata": {},
   "outputs": [],
   "source": [
    "from apax.utils.helpers import mod_config\n",
    "\n",
    "config_path = Path(\"config.yaml\")\n",
    "\n",
    "config_updates = {\n",
    "    \"data\": {\n",
    "        \"energy_unit\": \"kcal/mol\",\n",
    "    }\n",
    "}\n",
    "config_dict = mod_config(config_path, config_updates)"
   ]
  },
  {
   "cell_type": "markdown",
   "metadata": {},
   "source": [
    "Open the resulting `config.yaml` file in an editor of your choice and make sure to fill in the data path field with the name of the data set you just downloaded.\n",
    "For the purposes of this tutorial we will train on 1000 data points and validate the model on 200 more during the training. Random splitting is done by apax but it is also possible to input a pre-splitted training and validation dataset\n",
    "\n",
    "The filled in configuration file should look similar to this one.\n",
    "\n",
    "```yaml\n",
    "data:\n",
    "    data_path: md17.extexyz\n",
    "    epochs: 1000\n",
    "    n_train: 1000\n",
    "    ....\n",
    "```"
   ]
  },
  {
   "cell_type": "markdown",
   "metadata": {},
   "source": [
    "In order to check whether the a configuration file is valid, we provide the `validate` command. This is especially convenient when submitting training runs on a compute cluster.\n",
    "\n",
    "`apax validate train config_minimal.yaml`\n",
    "\n",
    "Configuration files are validated using Pydantic and the errors provided by the `validate` command give precise instructions on how to fix the input file.\n",
    "For example, changing `epochs` to `-1000`, validate will give the following feedback to the user:\n",
    "\n",
    "`PYDANTIC ERROR`"
   ]
  },
  {
   "cell_type": "markdown",
   "metadata": {},
   "source": [
    "## Training\n",
    "\n",
    "Model training can be started by running\n",
    "\n",
    "`apax train config.yaml`\n",
    "\n",
    "During training, apax displays a progress bar to keep track of the validation loss.\n",
    "This progress bar is optional however and can be turned off in the config. LINK\n",
    "The default configuration writes training metrics to a CSV file, but TensorBoard is also supported.\n",
    "One can specify which to use by adding the following section to the input file:\n",
    "\n",
    "```yaml\n",
    "callbacks:\n",
    "    - CSV\n",
    "```\n",
    "\n",
    "If training is interrupted for any reason, re-running the above `train` command will resume training from the latest checkpoint."
   ]
  },
  {
   "cell_type": "markdown",
   "metadata": {},
   "source": [
    "TODO plot train val loss"
   ]
  },
  {
   "cell_type": "code",
   "execution_count": 5,
   "metadata": {},
   "outputs": [],
   "source": [
    "# Imports\n",
    "\n",
    "import matplotlib.pyplot as plt"
   ]
  },
  {
   "cell_type": "markdown",
   "metadata": {},
   "source": [
    "Evaluation\n",
    "==========\n",
    "\n",
    "After the training is completed and we are satisfied with our choice of hyperparameters and vadliation loss, we can evaluate the model on the test set.\n",
    "We provide a separate command for test set evaluation:\n",
    "\n",
    "`apax evaluate config_minimal.yaml`\n",
    "\n",
    "TODO pretty print results to the terminal\n",
    "\n",
    "Congratulations, you have successfully trained and evaluated your first apax model!"
   ]
  },
  {
   "cell_type": "markdown",
   "metadata": {},
   "source": [
    "## A Closer Look At Training Parameters\n",
    "\n",
    "TODO"
   ]
  },
  {
   "cell_type": "markdown",
   "metadata": {},
   "source": []
  }
 ],
 "metadata": {
  "kernelspec": {
   "display_name": "apax311",
   "language": "python",
   "name": "python3"
  },
  "language_info": {
   "codemirror_mode": {
    "name": "ipython",
    "version": 3
   },
   "file_extension": ".py",
   "mimetype": "text/x-python",
   "name": "python",
   "nbconvert_exporter": "python",
   "pygments_lexer": "ipython3",
   "version": "3.11.8"
  }
 },
 "nbformat": 4,
 "nbformat_minor": 2
}
