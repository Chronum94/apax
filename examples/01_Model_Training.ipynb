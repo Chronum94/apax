{
 "cells": [
  {
   "cell_type": "markdown",
   "metadata": {},
   "source": [
    "# Model Training\n",
    "\n",
    "In this tutorial we are going to train a model from scratch on a molecular dataset from the MD17 collection.\n",
    "Start by creating a project folder and downloading the dataset.\n",
    "\n",
    "## Acquiring a dataset\n",
    "\n",
    "You can obtain the benzene dataset with DFT labels either by running the following command or manually from this [link](http://sgdml.org/?datasetID=benzene2018_dft). Apax uses ASE to read in datasets, so make sure to convert your own data into an ASE readable format (extxyz, traj etc). Be carefull the downloaded dataset has to be modified like in the `apax.untils.dataset.mod_md_datasets` function in order to be readable."
   ]
  },
  {
   "cell_type": "code",
   "execution_count": 1,
   "metadata": {},
   "outputs": [],
   "source": [
    "from pathlib import Path\n",
    "from apax.utils.datasets import download_benzene_DFT, mod_md_datasets, download_md22_benzene_CCSDT\n",
    "\n",
    "data_path = Path(\"project\")\n",
    "\n",
    "file_path = download_benzene_DFT(data_path)\n",
    "file_path = mod_md_datasets(file_path)"
   ]
  },
  {
   "cell_type": "markdown",
   "metadata": {},
   "source": [
    "## Configuration files\n",
    "\n",
    "Next, we require a configuration file that specifies the model and training parameters.\n",
    "In order to get users quickly up and running, our command line interface provides an easy way to generate input templates.\n",
    "The provided templates come in in two levels of verbosity: minimal and full.\n",
    "In the following we are going to use a minimal input file. To see a complete list and explanation of all parameters, consult the documentation page LINK.\n",
    "For more information on the CLI,  simply run `apax -h`."
   ]
  },
  {
   "cell_type": "code",
   "execution_count": 2,
   "metadata": {},
   "outputs": [
    {
     "name": "stderr",
     "output_type": "stream",
     "text": [
      "/home/linux3_i1/segreto/miniconda3/envs/apax/lib/python3.11/pty.py:89: RuntimeWarning: os.fork() was called. os.fork() is incompatible with multithreaded code, and JAX is multithreaded, so this will likely lead to a deadlock.\n",
      "  pid, fd = os.forkpty()\n"
     ]
    },
    {
     "name": "stdout",
     "output_type": "stream",
     "text": [
      "\u001b[1m                                                                                \u001b[0m\n",
      "\u001b[1m \u001b[0m\u001b[1;33mUsage: \u001b[0m\u001b[1mapax [OPTIONS] COMMAND [ARGS]...\u001b[0m\u001b[1m                                       \u001b[0m\u001b[1m \u001b[0m\n",
      "\u001b[1m                                                                                \u001b[0m\n",
      "\u001b[2m╭─\u001b[0m\u001b[2m Options \u001b[0m\u001b[2m───────────────────────────────────────────────────────────────────\u001b[0m\u001b[2m─╮\u001b[0m\n",
      "\u001b[2m│\u001b[0m \u001b[1;36m-\u001b[0m\u001b[1;36m-version\u001b[0m             \u001b[1;32m-V\u001b[0m                                                     \u001b[2m│\u001b[0m\n",
      "\u001b[2m│\u001b[0m \u001b[1;36m-\u001b[0m\u001b[1;36m-install\u001b[0m\u001b[1;36m-completion\u001b[0m            Install completion for the current shell.    \u001b[2m│\u001b[0m\n",
      "\u001b[2m│\u001b[0m \u001b[1;36m-\u001b[0m\u001b[1;36m-show\u001b[0m\u001b[1;36m-completion\u001b[0m               Show completion for the current shell, to    \u001b[2m│\u001b[0m\n",
      "\u001b[2m│\u001b[0m                                 copy it or customize the installation.       \u001b[2m│\u001b[0m\n",
      "\u001b[2m│\u001b[0m \u001b[1;36m-\u001b[0m\u001b[1;36m-help\u001b[0m                \u001b[1;32m-h\u001b[0m        Show this message and exit.                  \u001b[2m│\u001b[0m\n",
      "\u001b[2m╰──────────────────────────────────────────────────────────────────────────────╯\u001b[0m\n",
      "\u001b[2m╭─\u001b[0m\u001b[2m Commands \u001b[0m\u001b[2m──────────────────────────────────────────────────────────────────\u001b[0m\u001b[2m─╮\u001b[0m\n",
      "\u001b[2m│\u001b[0m \u001b[1;36mdocs     \u001b[0m\u001b[1;36m \u001b[0m Opens the documentation website in your browser.                  \u001b[2m│\u001b[0m\n",
      "\u001b[2m│\u001b[0m \u001b[1;36meval     \u001b[0m\u001b[1;36m \u001b[0m Starts performing the evaluation of the test dataset with         \u001b[2m│\u001b[0m\n",
      "\u001b[2m│\u001b[0m \u001b[1;36m          \u001b[0m parameters provided by a configuration file.                      \u001b[2m│\u001b[0m\n",
      "\u001b[2m│\u001b[0m \u001b[1;36mmd       \u001b[0m\u001b[1;36m \u001b[0m Starts performing a molecular dynamics simulation (currently only \u001b[2m│\u001b[0m\n",
      "\u001b[2m│\u001b[0m \u001b[1;36m          \u001b[0m NHC thermostat) with parameters provided by a configuration file. \u001b[2m│\u001b[0m\n",
      "\u001b[2m│\u001b[0m \u001b[1;36mtemplate \u001b[0m\u001b[1;36m \u001b[0m Create configuration file templates.                              \u001b[2m│\u001b[0m\n",
      "\u001b[2m│\u001b[0m \u001b[1;36mtrain    \u001b[0m\u001b[1;36m \u001b[0m Starts the training of a model with parameters provided by a      \u001b[2m│\u001b[0m\n",
      "\u001b[2m│\u001b[0m \u001b[1;36m          \u001b[0m configuration file.                                               \u001b[2m│\u001b[0m\n",
      "\u001b[2m│\u001b[0m \u001b[1;36mvalidate \u001b[0m\u001b[1;36m \u001b[0m Validate training or MD config files.                             \u001b[2m│\u001b[0m\n",
      "\u001b[2m│\u001b[0m \u001b[1;36mvisualize\u001b[0m\u001b[1;36m \u001b[0m Visualize a model based on a configuration file. A CO molecule is \u001b[2m│\u001b[0m\n",
      "\u001b[2m│\u001b[0m \u001b[1;36m          \u001b[0m taken as sample input (influences number of atoms, number of      \u001b[2m│\u001b[0m\n",
      "\u001b[2m│\u001b[0m \u001b[1;36m          \u001b[0m species is set to 10).                                            \u001b[2m│\u001b[0m\n",
      "\u001b[2m╰──────────────────────────────────────────────────────────────────────────────╯\u001b[0m\n",
      "\n"
     ]
    }
   ],
   "source": [
    "!apax -h"
   ]
  },
  {
   "cell_type": "markdown",
   "metadata": {},
   "source": [
    "The following command create a minimal configuration file in the working directory."
   ]
  },
  {
   "cell_type": "code",
   "execution_count": 3,
   "metadata": {},
   "outputs": [],
   "source": [
    "!apax template train"
   ]
  },
  {
   "cell_type": "markdown",
   "metadata": {},
   "source": [
    "Open the resulting `config.yaml` file in an editor of your choice and make sure to fill in the data path field with the name of the data set you just downloaded.\n",
    "For the purposes of this tutorial we will train on 1000 data points and validate the model on 200 more during the training. Further, the units of the labels have to be specified. Random splitting is done by apax but it is also possible to input a pre-splitted training and validation dataset\n",
    "\n",
    "The filled in configuration file should look similar to this one.\n",
    "\n",
    "```yaml\n",
    "epoch: 1000\n",
    "data:\n",
    "    data_path: md17.extexyz\n",
    "    epochs: 1000\n",
    "    n_train: 1000\n",
    "    energy_unit: kcal/mol\n",
    "    pos_unit: Ang\n",
    "    ....\n",
    "```\n",
    "\n",
    "It also can be modefied with the utils function `mod_config` provided by Apax.\n"
   ]
  },
  {
   "cell_type": "code",
   "execution_count": 4,
   "metadata": {},
   "outputs": [],
   "source": [
    "from apax.utils.helpers import mod_config\n",
    "import yaml\n",
    "\n",
    "\n",
    "config_path = Path(\"config.yaml\")\n",
    "\n",
    "config_updates = {\n",
    "    \"n_epochs\": 10,\n",
    "    \"data\": {\n",
    "        \"experiment\": \"benzene_dft_cli\",\n",
    "        \"directory\": \"project/models\",\n",
    "        \"data_path\": str(file_path),\n",
    "        \"energy_unit\": \"kcal/mol\",\n",
    "        \"pos_unit\": \"Ang\",\n",
    "    }\n",
    "}\n",
    "config_dict = mod_config(config_path, config_updates)\n",
    "\n",
    "with open(\"config.yaml\", \"w\") as conf:\n",
    "    yaml.dump(config_dict, conf, default_flow_style=False)"
   ]
  },
  {
   "cell_type": "markdown",
   "metadata": {},
   "source": [
    "\n",
    "In order to check whether the a configuration file is valid, we provide the `validate` command. This is especially convenient when submitting training runs on a compute cluster.\n"
   ]
  },
  {
   "cell_type": "code",
   "execution_count": 5,
   "metadata": {},
   "outputs": [
    {
     "name": "stdout",
     "output_type": "stream",
     "text": [
      "\u001b[32mSuccess!\u001b[0m\n",
      "config.yaml is a valid training config.\n"
     ]
    }
   ],
   "source": [
    "!apax validate train config.yaml"
   ]
  },
  {
   "cell_type": "markdown",
   "metadata": {},
   "source": [
    "Configuration files are validated using Pydantic and the errors provided by the `validate` command give precise instructions on how to fix the input file.\n",
    "For example, changing `epochs` to `-1000`, validate will give the following feedback to the user:"
   ]
  },
  {
   "cell_type": "code",
   "execution_count": 6,
   "metadata": {},
   "outputs": [],
   "source": [
    "config_updates = {\n",
    "    \"n_epochs\": -1000,\n",
    "}\n",
    "config_dict = mod_config(config_path, config_updates)\n",
    "\n",
    "with open(\"error_config.yaml\", \"w\") as conf:\n",
    "    yaml.dump(config_dict, conf, default_flow_style=False)"
   ]
  },
  {
   "cell_type": "code",
   "execution_count": 7,
   "metadata": {},
   "outputs": [
    {
     "name": "stdout",
     "output_type": "stream",
     "text": [
      "1 validation error for Config\n",
      "n_epochs\n",
      "  Input should be greater than 0 [type=greater_than, input_value=-1000, input_type=int]\n",
      "    For further information visit https://errors.pydantic.dev/2.6/v/greater_than\n",
      "\u001b[31mConfiguration Invalid!\u001b[0m\n"
     ]
    }
   ],
   "source": [
    "!apax validate train error_config.yaml"
   ]
  },
  {
   "cell_type": "markdown",
   "metadata": {},
   "source": [
    "## Training\n",
    "\n",
    "Model training can be started by running"
   ]
  },
  {
   "cell_type": "code",
   "execution_count": 8,
   "metadata": {},
   "outputs": [
    {
     "name": "stdout",
     "output_type": "stream",
     "text": [
      "INFO | 13:41:50 | Initializing Callbacks\n",
      "INFO | 13:41:50 | Initializing Loss Function\n",
      "INFO | 13:41:50 | Initializing Metrics\n",
      "INFO | 13:41:50 | Running Input Pipeline\n",
      "INFO | 13:41:50 | Read data file project/benzene_mod.xyz\n",
      "INFO | 13:41:50 | Loading data from project/benzene_mod.xyz\n",
      "INFO | 13:42:00 | Precomputing neighborlists\n",
      "Precomputing NL: 100%|███████████████████████████████████████| 1000/1000 [00:00<00:00, 12919.46it/s]\n",
      "INFO | 13:42:00 | Computing per element energy regression.\n",
      "INFO | 13:42:06 | Precomputing neighborlists\n",
      "Precomputing NL: 100%|█████████████████████████████████████████| 100/100 [00:00<00:00, 12653.65it/s]\n",
      "INFO | 13:42:07 | Initializing Model\n",
      "INFO | 13:42:08 | initializing 1 models\n",
      "INFO | 13:42:13 | Initializing Optimizer\n",
      "INFO | 13:42:13 | Beginning Training\n",
      "Epochs: 100%|████████████████████████████████████████| 10/10 [00:28<00:00,  2.82s/it, val_loss=0.63]\n"
     ]
    }
   ],
   "source": [
    "!apax train config.yaml"
   ]
  },
  {
   "cell_type": "markdown",
   "metadata": {},
   "source": [
    "\n",
    "\n",
    "During training, apax displays a progress bar to keep track of the validation loss.\n",
    "This progress bar is optional however and can be turned off in the config. LINK\n",
    "The default configuration writes training metrics to a CSV file, but TensorBoard is also supported.\n",
    "One can specify which to use by adding the following section to the input file:\n",
    "\n",
    "```yaml\n",
    "callbacks:\n",
    "    - CSV\n",
    "```\n",
    "\n",
    "If training is interrupted for any reason, re-running the above `train` command will resume training from the latest checkpoint.\n",
    "\n",
    "Furthermore, an Apax trianing can easily be started within a script."
   ]
  },
  {
   "cell_type": "code",
   "execution_count": 9,
   "metadata": {},
   "outputs": [
    {
     "name": "stderr",
     "output_type": "stream",
     "text": [
      "Precomputing NL: 100%|████████████████████████████████████████| 1000/1000 [00:00<00:00, 9771.12it/s]\n",
      "Precomputing NL: 100%|█████████████████████████████████████████| 100/100 [00:00<00:00, 13090.43it/s]\n",
      "Epochs: 100%|██████████████████████████████████████| 100/100 [03:38<00:00,  2.19s/it, val_loss=0.31]\n"
     ]
    }
   ],
   "source": [
    "from apax.train.run import run\n",
    "from apax.utils.helpers import mod_config\n",
    "\n",
    "\n",
    "config_path = Path(\"config.yaml\")\n",
    "\n",
    "config_updates = {\n",
    "    \"n_epochs\": 100,\n",
    "    \"data\": {\n",
    "        \"experiment\": \"benzene_dft_script\",\n",
    "        \"directory\": \"project/models\",\n",
    "        \"data_path\": str(file_path),\n",
    "        \"energy_unit\": \"kcal/mol\",\n",
    "        \"pos_unit\": \"Ang\",\n",
    "    }\n",
    "}\n",
    "\n",
    "config_dict = mod_config(config_path, config_updates)\n",
    "\n",
    "run(config_dict)"
   ]
  },
  {
   "cell_type": "code",
   "execution_count": 10,
   "metadata": {},
   "outputs": [
    {
     "data": {
      "image/png": "[encoded data removed]",
      "text/plain": [
       "<Figure size 640x480 with 4 Axes>"
      ]
     },
     "metadata": {},
     "output_type": "display_data"
    }
   ],
   "source": [
    "import csv\n",
    "import matplotlib.pyplot as plt\n",
    "import numpy as np\n",
    "\n",
    "\n",
    "path = \"project/models/benzene_dft_script/log.csv\"\n",
    "\n",
    "keys = [\"energy_mae\", \"forces_mse\", \"forces_mae\", \"loss\"]\n",
    "data_dict = {}\n",
    "\n",
    "with open(path, 'r') as file:\n",
    "    reader = csv.reader(file)\n",
    "\n",
    "    # Extract the headers (keys) from the first row\n",
    "    headers = next(reader)\n",
    "\n",
    "    # Initialize empty lists for each key\n",
    "    for header in headers:\n",
    "        data_dict[header] = []\n",
    "\n",
    "    # Read the rest of the rows and append values to the corresponding key\n",
    "    for row in reader:\n",
    "        for idx, value in enumerate(row):\n",
    "            key = headers[idx]\n",
    "            data_dict[key].append(float(value))\n",
    "\n",
    "fig, axes = plt.subplots(2, 2, constrained_layout=True)\n",
    "axes = axes.ravel()\n",
    "fig.suptitle(f'Metrics', fontsize=16)\n",
    "\n",
    "for id, key in enumerate(keys):\n",
    "    val = np.array(data_dict[f\"val_{key}\"])\n",
    "    train = np.array(data_dict[f\"train_{key}\"])\n",
    "    epoch = np.array(data_dict[\"epoch\"])\n",
    "\n",
    "    axes[id].plot(epoch, val, label=\"val data\")\n",
    "    axes[id].plot(epoch, train, label=\"train data\")\n",
    "\n",
    "    axes[id].set_ylabel(f\"{key}\")\n",
    "    axes[id].set_xlabel(r\"epoch\")\n",
    "\n",
    "plt.show()"
   ]
  },
  {
   "cell_type": "markdown",
   "metadata": {},
   "source": [
    "## Evaluation\n",
    "\n",
    "After the training is completed and we are satisfied with our choice of hyperparameters and vadliation loss, we can evaluate the model on the test set.\n",
    "We provide a separate command for test set evaluation:\n"
   ]
  },
  {
   "cell_type": "code",
   "execution_count": 11,
   "metadata": {},
   "outputs": [
    {
     "name": "stderr",
     "output_type": "stream",
     "text": [
      "Precomputing NL: 100%|█████████████████████████████████████████████| 10/10 [00:00<00:00, 280.00it/s]\n",
      "Batches: 100%|███████████████████████| 10/10 [00:01<00:00,  6.29it/s, test_loss=0.06859629925320611]\n"
     ]
    }
   ],
   "source": [
    "from apax.train.eval import eval_model\n",
    "\n",
    "eval_model(config_dict, n_test=10)"
   ]
  },
  {
   "cell_type": "code",
   "execution_count": 12,
   "metadata": {},
   "outputs": [
    {
     "name": "stderr",
     "output_type": "stream",
     "text": [
      "/home/linux3_i1/segreto/miniconda3/envs/apax/lib/python3.11/pty.py:89: RuntimeWarning: os.fork() was called. os.fork() is incompatible with multithreaded code, and JAX is multithreaded, so this will likely lead to a deadlock.\n",
      "  pid, fd = os.forkpty()\n"
     ]
    },
    {
     "name": "stdout",
     "output_type": "stream",
     "text": [
      "Precomputing NL: 100%|████████████████████████████████████████████| 10/10 [00:00<00:00, 5706.54it/s]\n",
      "Batches: 100%|████████████████████████| 10/10 [00:01<00:00,  6.48it/s, test_loss=0.5443810628577777]\n"
     ]
    }
   ],
   "source": [
    "!apax eval config.yaml --n-data 10"
   ]
  },
  {
   "cell_type": "markdown",
   "metadata": {},
   "source": [
    "\n",
    "TODO pretty print results to the terminal\n",
    "\n",
    "Congratulations, you have successfully trained and evaluated your first apax model!"
   ]
  },
  {
   "cell_type": "markdown",
   "metadata": {},
   "source": [
    "## A Closer Look At Training Parameters"
   ]
  },
  {
   "cell_type": "markdown",
   "metadata": {},
   "source": [
    "| Parameter                  | Default Value                  | Description                                                                 |\n",
    "|----------------------------|--------------------------------|-----------------------------------------------------------------------------|\n",
    "| **n_epochs**               | `<NUMBER OF EPOCHS>`           | Number of training epochs.                                                  |\n",
    "| **seed**                   | 1                              | Seed for initializing random numbers.                                       |\n",
    "| **patience**               | None                           | Number of epochs without improvement before training termination.          |\n",
    "| **n_models**               | 1                              | Number of models trained simultaneously.                                    |\n",
    "| **n_jitted_steps**         | 1                              | Number of train batches in a compiled loop. Can speed up for small batches. |\n",
    "| **Data**                   |                                |                                                                             |\n",
    "| directory                  | models/                        | Path to directory where training results and checkpoints are written.      |\n",
    "| experiment                 | apax                           | Model name distinguishing from others in directory.                         |\n",
    "| data_path                  | `<PATH>`                       | Path to single dataset file.                                               |\n",
    "| train_data_path            | `<PATH>`                       | Path to training dataset.                                                   |\n",
    "| val_data_path              | `<PATH>`                       | Path to validation dataset.                                                 |\n",
    "| test_data_path             | `<PATH>`                       | Path to test dataset.                                                       |\n",
    "| n_train                    | 1000                           | Number of training data points.                                             |\n",
    "| n_valid                    | 100                            | Number of validation data points.                                           |\n",
    "| batch_size                 | 32                             | Number of training examples evaluated at once.                             |\n",
    "| valid_batch_size           | 100                            | Number of validation examples evaluated at once.                           |\n",
    "| shift_method               | \"per_element_regression_shift\" | Method for shifting.                                                        |\n",
    "| shift_options              | energy_regularization: 1.0     | Regularization magnitude for energy regression.                             |\n",
    "| shuffle_buffer_size        | 1000                           | Size of `tf.data` shuffle buffer.                                           |\n",
    "| pos_unit                   | Ang                            | Positional unit.                                                            |\n",
    "| energy_unit                | eV                             | Energy unit.                                                                |\n",
    "| additional_properties_info |                                | Dictionary of property name, shape pairs.                                   |\n",
    "| **Model**                  |                                |                                                                             |\n",
    "| n_basis                    | 7                              | Number of Gaussian basis functions.                                         |\n",
    "| n_radial                   | 5                              | Number of contracted basis functions.                                      |\n",
    "| nn                         | [512, 512]                     | Hidden layers and units.                                                    |\n",
    "| r_max                      | 6.0                            | Maximum position of first basis function's mean.                           |\n",
    "| r_min                      | 0.5                            | Descriptor cutoff radius.                                                   |\n",
    "| use_zbl                    | false                          | Use Zero-Body-Loss.                                                         |\n",
    "| b_init                     | normal                         | Initialization scheme for biases.                                           |\n",
    "| descriptor_dtype           | fp64                           | Descriptor data type.                                                       |\n",
    "| readout_dtype              | fp32                           | Readout data type.                                                          |\n",
    "| scale_shift_dtype          | fp32                           | Scale/Shift data type.                                                      |\n",
    "| **Loss**                   |                                |                                                                             |\n",
    "| loss_type                  | structures                     | Weighting scheme for atomic contributions.                                 |\n",
    "| name                       | energy                         | Quantity keyword.                                                           |\n",
    "| weight                     | 1.0                            | Weighting factor in loss function.                                          |\n",
    "| name                       | forces                         | Quantity keyword.                                                           |\n",
    "| weight                     | 4.0                            | Weighting factor in loss function.                                          |\n",
    "| **Metrics**                |                                |                                                                             |\n",
    "| name                       | energy                         | Quantity keyword.                                                           |\n",
    "| reductions                 |                                | List of reductions on target-prediction differences.                        |\n",
    "| name                       | forces                         | Quantity keyword.                                                           |\n",
    "| reductions                 | mae, mse                       | Reductions on target-prediction differences.                               |\n",
    "| **Optimizer**              |                                |                                                                             |\n",
    "| opt_name                   | adam                           | Optimizer name.                                                             |\n",
    "| opt_kwargs                 | {}                             | Optimizer keyword arguments.                                                |\n",
    "| emb_lr                     | 0.03                           | Learning rate for elemental embedding contraction coefficients.            |\n",
    "| nn_lr                      | 0.03                           | Learning rate for neural network parameters.                                |\n",
    "| scale_lr                   | 0.001                          | Learning rate for elemental output scaling factors.                        |\n",
    "| shift_lr                   | 0.05                           | Learning rate for elemental output shifts.                                  |\n",
    "| zbl_lr                     | 0.001                          | Learning rate for Zero-Body-Loss.                                           |\n",
    "| transition_begin           | 0                              | Training steps before linear learning rate schedule.                        |\n",
    "| **Callbacks**              |                                |                                                                             |\n",
    "| name                       | csv                            | Callback name.                                                              |\n",
    "| **Progress Bar**           |                                |                                                                             |\n",
    "| disable_epoch_pbar         | false                          | Disable epoch progress bar.                                                 |\n",
    "| disable_nl_pbar            | false                          | Disable NL precomputation progress bar.                                     |\n",
    "| **Checkpoints**            |                                |                                                                             |\n",
    "| ckpt_interval              | 1                              | Epochs between checkpoints.                                                 |\n",
    "| base_model_checkpoint     | null                           | Path to pre-trained model checkpoint.                                       |\n",
    "| reset_layers               | []                             | List of layers to reinitialize parameters.                                  |\n"
   ]
  },
  {
   "cell_type": "markdown",
   "metadata": {},
   "source": [
    "To remove all the created files and clean up yor working directory run"
   ]
  },
  {
   "cell_type": "code",
   "execution_count": 13,
   "metadata": {},
   "outputs": [],
   "source": [
    "!rm -r project config.yaml error_config.yaml eval.log"
   ]
  }
 ],
 "metadata": {
  "kernelspec": {
   "display_name": "apax311",
   "language": "python",
   "name": "python3"
  },
  "language_info": {
   "codemirror_mode": {
    "name": "ipython",
    "version": 3
   },
   "file_extension": ".py",
   "mimetype": "text/x-python",
   "name": "python",
   "nbconvert_exporter": "python",
   "pygments_lexer": "ipython3",
   "version": "3.11.8"
  }
 },
 "nbformat": 4,
 "nbformat_minor": 2
}
