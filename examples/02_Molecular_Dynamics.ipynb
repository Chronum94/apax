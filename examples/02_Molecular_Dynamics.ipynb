{
 "cells": [
  {
   "cell_type": "code",
   "execution_count": 1,
   "metadata": {},
   "outputs": [],
   "source": [
    "import warnings\n",
    "\n",
    "warnings.simplefilter(\"ignore\")"
   ]
  },
  {
   "cell_type": "markdown",
   "metadata": {},
   "source": [
    "# Molecular Dynamics\n",
    "\n",
    "In this tutorial we will cover how to use trained models to drive MD simulations.\n",
    "For this purpose, apax offers two options: ASE and JaxMD. Keep in mind that JaxMD can be GPU/TPU accelerated and is therefore much faster.\n",
    "Both will be covered below."
   ]
  },
  {
   "cell_type": "markdown",
   "metadata": {},
   "source": [
    "## Basic Model Training\n",
    "\n",
    "First we need to train a model.\n",
    "If you have the parameters from tutorial 01, you can point the paths to those models and skip the current section to the [ASE MD](##-The-ASE-calculator) or the [JaxMD](##-JaxMD) section."
   ]
  },
  {
   "cell_type": "code",
   "execution_count": 2,
   "metadata": {},
   "outputs": [
    {
     "name": "stdout",
     "output_type": "stream",
     "text": [
      "There is already a config file in the working directory.\n"
     ]
    }
   ],
   "source": [
    "!apax template train --full  # generating the config file in the cwd"
   ]
  },
  {
   "cell_type": "code",
   "execution_count": 3,
   "metadata": {},
   "outputs": [
    {
     "name": "stderr",
     "output_type": "stream",
     "text": [
      "WARNING: All log messages before absl::InitializeLog() is called are written to STDERR\n",
      "E0000 00:00:1732192456.416833  472756 cuda_dnn.cc:8310] Unable to register cuDNN factory: Attempting to register factory for plugin cuDNN when one has already been registered\n",
      "E0000 00:00:1732192456.419973  472756 cuda_blas.cc:1418] Unable to register cuBLAS factory: Attempting to register factory for plugin cuBLAS when one has already been registered\n",
      "Epochs:   0%|                                                               | 0/100 [00:00<?, ?it/s]WARNING | 12:34:35 | SaveArgs.aggregate is deprecated, please use custom TypeHandler (https://orbax.readthedocs.io/en/latest/custom_handlers.html#typehandler) or contact Orbax team to migrate before August 1st, 2024.\n",
      "Epochs: 100%|████████████████████████████████████| 100/100 [00:59<00:00,  1.67it/s, val_loss=0.0435]\n"
     ]
    }
   ],
   "source": [
    "from pathlib import Path\n",
    "\n",
    "import yaml\n",
    "\n",
    "from apax.train.run import run\n",
    "from apax.utils.datasets import download_etoh_ccsdt, mod_md_datasets\n",
    "from apax.utils.helpers import mod_config\n",
    "\n",
    "# Download and modify the dataset\n",
    "data_path = Path(\"project\")\n",
    "experiment = \"etoh_md\"\n",
    "\n",
    "\n",
    "train_file_path, test_file_path = download_etoh_ccsdt(data_path)\n",
    "train_file_path = mod_md_datasets(train_file_path)\n",
    "test_file_path = mod_md_datasets(test_file_path)\n",
    "\n",
    "\n",
    "# Modify the config file (can be done manually)\n",
    "config_path = Path(\"config_full.yaml\")\n",
    "\n",
    "config_updates = {\n",
    "    \"n_epochs\": 100,\n",
    "    \"data\": {\n",
    "        \"n_train\": 990,\n",
    "        \"n_valid\": 10,\n",
    "        \"valid_batch_size\": 10,\n",
    "        \"experiment\": experiment,\n",
    "        \"directory\": \"project/models\",\n",
    "        \"data_path\": str(train_file_path),\n",
    "        \"test_data_path\": str(test_file_path),\n",
    "        \"energy_unit\": \"kcal/mol\",\n",
    "        \"pos_unit\": \"Ang\",\n",
    "    },\n",
    "}\n",
    "config_dict = mod_config(config_path, config_updates)\n",
    "with open(\"config_full.yaml\", \"w\") as conf:\n",
    "    yaml.dump(config_dict, conf, default_flow_style=False)\n",
    "\n",
    "# Train model\n",
    "run(config_dict)"
   ]
  },
  {
   "cell_type": "markdown",
   "metadata": {},
   "source": [
    "## The ASE calculator\n",
    "\n",
    "If you require some ASE features during your simulation, we provide an alternative to the JaxMD interface.\n",
    "\n",
    "Please refer to the [ASE documentation](https://wiki.fysik.dtu.dk/ase/ase/calculators/calculators.html)  to see how to use ASE calculators.\n",
    "\n",
    "An ASE calculator of a trained model can be instantiated as follows. Subsequend a ASE-MD is performed and OH-bondlength distribution is analysed."
   ]
  },
  {
   "cell_type": "code",
   "execution_count": 4,
   "metadata": {},
   "outputs": [],
   "source": [
    "from ase import units\n",
    "from ase.io import read\n",
    "from ase.io.trajectory import Trajectory\n",
    "from ase.md.langevin import Langevin\n",
    "\n",
    "from apax.md import ASECalculator\n",
    "\n",
    "# read starting structure and define modelpath\n",
    "atoms = read(train_file_path, index=0)\n",
    "model_dir = data_path / f\"models/{experiment}\"\n",
    "\n",
    "\n",
    "# initiolize the apax ase calculator and assign it to the starting structure\n",
    "calc = ASECalculator(model_dir=model_dir)\n",
    "atoms.calc = calc\n",
    "\n",
    "# perform MD simulation\n",
    "dyn = Langevin(\n",
    "    atoms=atoms,\n",
    "    timestep=0.5 * units.fs,\n",
    "    temperature_K=300,\n",
    "    friction=0.001 / units.fs,\n",
    ")\n",
    "\n",
    "traj = Trajectory(\"example.traj\", \"w\", atoms)\n",
    "dyn.attach(traj.write, interval=1)\n",
    "dyn.run(10000)\n",
    "traj.close()"
   ]
  },
  {
   "cell_type": "markdown",
   "metadata": {},
   "source": [
    "<a id='bondlength'></a>"
   ]
  },
  {
   "cell_type": "code",
   "execution_count": 5,
   "metadata": {},
   "outputs": [],
   "source": [
    "import matplotlib.pyplot as plt\n",
    "import numpy as np\n",
    "\n",
    "\n",
    "def plot_bondlength_distribution(traj, indices: list, bins: int = 25):\n",
    "    oh_dist = []\n",
    "    for atoms in traj:\n",
    "        oh_dist.append(atoms.get_distances(indices[0], indices[1]))\n",
    "\n",
    "    fig, axs = plt.subplots()\n",
    "    axs.hist(np.array(oh_dist), bins=25)\n",
    "    fig.show()"
   ]
  },
  {
   "cell_type": "code",
   "execution_count": 6,
   "metadata": {},
   "outputs": [
    {
     "data": {
      "image/png": "[encoded data removed]",
      "text/plain": [
       "<Figure size 640x480 with 1 Axes>"
      ]
     },
     "metadata": {},
     "output_type": "display_data"
    }
   ],
   "source": [
    "# plot OH bondlength distribution of the MLMD simulation\n",
    "traj = Trajectory(\"example.traj\")\n",
    "plot_bondlength_distribution(traj, indices=[2, -1])"
   ]
  },
  {
   "cell_type": "markdown",
   "metadata": {},
   "source": [
    "## JaxMD\n",
    "\n",
    "While the ASE interface is convenient and flexible, it is not meant for high performance applications.\n",
    "For these purposes, apax comes with an interface to [JaxMD](https://jax-md.readthedocs.io/en/main/#).\n",
    "JaxMD is a high performance molecular dynamics engine built on top of [Jax](https://jax.readthedocs.io/en/latest/index.html).\n",
    "The CLI provides easy access to standard NVT and NPT simulations.\n",
    "More complex simulation loops are relatively easy to build yourself in JaxMD (see their colab notebooks for examples). \n",
    "Trained apax models can of course be used as `energy_fn` in such custom simulations.\n",
    "If you have a suggestion for adding some MD feature or thermostat to the core of `apax`, feel free to open up an issue on [Github](https://github.com/apax-hub/apax).\n"
   ]
  },
  {
   "cell_type": "markdown",
   "metadata": {},
   "source": [
    "### Configuration\n",
    "We can once again use the template command to give ourselves a quickstart.\n"
   ]
  },
  {
   "cell_type": "code",
   "execution_count": 7,
   "metadata": {},
   "outputs": [],
   "source": [
    "!apax template md"
   ]
  },
  {
   "cell_type": "markdown",
   "metadata": {},
   "source": [
    "\n",
    "Open the config and specify the starting structure and simulation parameters.\n",
    "If you specify the data set file itself, the first structure of the data set is going to be used as the initial structure.\n",
    "Your `md_config.yaml` should look similar to this:\n",
    "\n",
    "```yaml\n",
    "ensemble:\n",
    "    temperature: 300 # K\n",
    "    \n",
    "duration: 20_000 # fs\n",
    "initial_structure: project/benzene_mod.xyz\n",
    "```\n",
    "Full configuration file with descriptiond of the parameter can be found [here](https://github.com/apax-hub/apax/blob/main/apax/cli/templates/md_config_minimal.yaml)."
   ]
  },
  {
   "cell_type": "code",
   "execution_count": 8,
   "metadata": {},
   "outputs": [],
   "source": [
    "import yaml\n",
    "\n",
    "from apax.utils.helpers import mod_config\n",
    "\n",
    "md_config_path = Path(\"md_config.yaml\")\n",
    "\n",
    "config_updates = {\n",
    "    \"initial_structure\": str(\n",
    "        train_file_path\n",
    "    ),  # if the model from example 01 is used change this\n",
    "    \"duration\": 5000,  # fs\n",
    "    \"ensemble\": {\n",
    "        \"temperature_schedule\": {\n",
    "            \"T0\": 300,\n",
    "            'name': \"constant\",\n",
    "            },\n",
    "    },\n",
    "}\n",
    "config_dict = mod_config(md_config_path, config_updates)\n",
    "\n",
    "with open(md_config_path, \"w\") as conf:\n",
    "    yaml.dump(config_dict, conf, default_flow_style=False)"
   ]
  },
  {
   "cell_type": "markdown",
   "metadata": {},
   "source": [
    "\n",
    "As with training configurations, we can use the `validate` command to ensure our input is valid before we submit the calculation.\n"
   ]
  },
  {
   "cell_type": "code",
   "execution_count": 9,
   "metadata": {},
   "outputs": [
    {
     "name": "stdout",
     "output_type": "stream",
     "text": [
      "\u001b[32mSuccess!\u001b[0m\n",
      "md_config.yaml is a valid MD config.\n"
     ]
    }
   ],
   "source": [
    "!apax validate md md_config.yaml"
   ]
  },
  {
   "cell_type": "markdown",
   "metadata": {},
   "source": [
    "## Running the simulation\n",
    "\n",
    "The simulation can be started by running where `config.yaml` is the configuration file that was used to train the model."
   ]
  },
  {
   "cell_type": "code",
   "execution_count": 10,
   "metadata": {},
   "outputs": [
    {
     "name": "stdout",
     "output_type": "stream",
     "text": [
      "WARNING: All log messages before absl::InitializeLog() is called are written to STDERR\n",
      "E0000 00:00:1732192548.207012  473799 cuda_dnn.cc:8310] Unable to register cuDNN factory: Attempting to register factory for plugin cuDNN when one has already been registered\n",
      "E0000 00:00:1732192548.210026  473799 cuda_blas.cc:1418] Unable to register cuBLAS factory: Attempting to register factory for plugin cuBLAS when one has already been registered\n",
      "INFO | 12:35:51 | reading structure\n",
      "INFO | 12:35:51 | Unable to initialize backend 'rocm': module 'jaxlib.xla_extension' has no attribute 'GpuAllocatorConfig'\n",
      "INFO | 12:35:51 | Unable to initialize backend 'tpu': INTERNAL: Failed to open libtpu.so: libtpu.so: cannot open shared object file: No such file or directory\n",
      "INFO | 12:35:51 | initializing model\n",
      "INFO | 12:35:52 | loading checkpoint from /SCR1/segreto/dev/apax/examples/project/models/etoh_md/best\n",
      "INFO | 12:35:52 | Building Standard model\n",
      "INFO | 12:35:52 | initializing simulation\n",
      "INFO | 12:36:00 | running simulation for 5.0 ps\n",
      "Simulation:   5%|█▊                                 | 500/10000 [00:02<00:54, 172.75it/s, T=219.0 K]\n",
      "Preparing data: 100%|██████████████████████████████████████████████████████████████| 100/100 [00:00<00:00, 96442.95it/s]\u001b[A\n",
      "\n",
      "Creating groups: 100%|██████████████████████████████████████████████████████████████████| 5/5 [00:00<00:00, 1377.71it/s]\u001b[A\n",
      "\n",
      "Creating observables: 100%|█████████████████████████████████████████████████████████████| 1/1 [00:00<00:00, 1746.90it/s]\u001b[A\n",
      "Simulation:  15%|█████                             | 1500/10000 [00:04<00:18, 451.01it/s, T=351.5 K]\n",
      "Preparing data: 100%|█████████████████████████████████████████████████████████████| 100/100 [00:00<00:00, 105676.59it/s]\u001b[A\n",
      "\n",
      "Extending groups: 100%|█████████████████████████████████████████████████████████████████| 5/5 [00:00<00:00, 1103.13it/s]\u001b[A\n",
      "\n",
      "Extending observables: 100%|████████████████████████████████████████████████████████████| 1/1 [00:00<00:00, 1321.04it/s]\u001b[A\n",
      "Simulation:  25%|████████▌                         | 2500/10000 [00:05<00:11, 630.34it/s, T=187.4 K]\n",
      "Preparing data: 100%|██████████████████████████████████████████████████████████████| 100/100 [00:00<00:00, 82338.12it/s]\u001b[A\n",
      "\n",
      "Extending groups: 100%|█████████████████████████████████████████████████████████████████| 5/5 [00:00<00:00, 1094.89it/s]\u001b[A\n",
      "\n",
      "Extending observables: 100%|████████████████████████████████████████████████████████████| 1/1 [00:00<00:00, 1349.52it/s]\u001b[A\n",
      "Simulation:  35%|███████████▉                      | 3500/10000 [00:06<00:08, 733.28it/s, T=124.0 K]\n",
      "Preparing data: 100%|██████████████████████████████████████████████████████████████| 100/100 [00:00<00:00, 98550.38it/s]\u001b[A\n",
      "\n",
      "Extending groups: 100%|█████████████████████████████████████████████████████████████████| 5/5 [00:00<00:00, 1105.86it/s]\u001b[A\n",
      "\n",
      "Extending observables: 100%|████████████████████████████████████████████████████████████| 1/1 [00:00<00:00, 1385.63it/s]\u001b[A\n",
      "Simulation:  45%|███████████████▎                  | 4500/10000 [00:07<00:06, 787.98it/s, T=265.5 K]\n",
      "Preparing data: 100%|█████████████████████████████████████████████████████████████| 100/100 [00:00<00:00, 106131.17it/s]\u001b[A\n",
      "\n",
      "Extending groups: 100%|█████████████████████████████████████████████████████████████████| 5/5 [00:00<00:00, 1112.84it/s]\u001b[A\n",
      "\n",
      "Extending observables: 100%|████████████████████████████████████████████████████████████| 1/1 [00:00<00:00, 1368.45it/s]\u001b[A\n",
      "Simulation:  55%|██████████████████▋               | 5500/10000 [00:08<00:05, 817.04it/s, T=345.3 K]\n",
      "Preparing data: 100%|██████████████████████████████████████████████████████████████| 100/100 [00:00<00:00, 76664.30it/s]\u001b[A\n",
      "\n",
      "Extending groups: 100%|█████████████████████████████████████████████████████████████████| 5/5 [00:00<00:00, 1107.90it/s]\u001b[A\n",
      "\n",
      "Extending observables: 100%|████████████████████████████████████████████████████████████| 1/1 [00:00<00:00, 1321.87it/s]\u001b[A\n",
      "Simulation:  65%|██████████████████████            | 6500/10000 [00:10<00:04, 831.74it/s, T=187.6 K]\n",
      "Preparing data: 100%|█████████████████████████████████████████████████████████████| 100/100 [00:00<00:00, 106861.25it/s]\u001b[A\n",
      "\n",
      "Extending groups: 100%|█████████████████████████████████████████████████████████████████| 5/5 [00:00<00:00, 1095.46it/s]\u001b[A\n",
      "\n",
      "Extending observables: 100%|████████████████████████████████████████████████████████████| 1/1 [00:00<00:00, 1338.32it/s]\u001b[A\n",
      "Simulation:  75%|█████████████████████████▌        | 7500/10000 [00:11<00:02, 837.36it/s, T=418.3 K]\n",
      "Preparing data: 100%|█████████████████████████████████████████████████████████████| 100/100 [00:00<00:00, 109198.23it/s]\u001b[A\n",
      "\n",
      "Extending groups: 100%|█████████████████████████████████████████████████████████████████| 5/5 [00:00<00:00, 1088.75it/s]\u001b[A\n",
      "\n",
      "Extending observables: 100%|████████████████████████████████████████████████████████████| 1/1 [00:00<00:00, 1358.70it/s]\u001b[A\n",
      "Simulation:  85%|████████████████████████████▉     | 8500/10000 [00:12<00:01, 839.68it/s, T=249.0 K]\n",
      "Preparing data: 100%|██████████████████████████████████████████████████████████████| 100/100 [00:00<00:00, 65423.55it/s]\u001b[A\n",
      "\n",
      "Extending groups: 100%|█████████████████████████████████████████████████████████████████| 5/5 [00:00<00:00, 1094.89it/s]\u001b[A\n",
      "\n",
      "Extending observables: 100%|████████████████████████████████████████████████████████████| 1/1 [00:00<00:00, 1337.47it/s]\u001b[A\n",
      "Simulation:  95%|████████████████████████████████▎ | 9500/10000 [00:13<00:00, 840.71it/s, T=514.8 K]\n",
      "Preparing data: 100%|█████████████████████████████████████████████████████████████| 100/100 [00:00<00:00, 107463.59it/s]\u001b[A\n",
      "\n",
      "Extending groups: 100%|█████████████████████████████████████████████████████████████████| 5/5 [00:00<00:00, 1090.79it/s]\u001b[A\n",
      "\n",
      "Extending observables: 100%|████████████████████████████████████████████████████████████| 1/1 [00:00<00:00, 1328.15it/s]\u001b[A\n",
      "Simulation: 100%|█████████████████████████████████| 10000/10000 [00:14<00:00, 705.16it/s, T=442.2 K]\n",
      "WARNING | 12:36:14 | SaveArgs.aggregate is deprecated, please use custom TypeHandler (https://orbax.readthedocs.io/en/latest/custom_handlers.html#typehandler) or contact Orbax team to migrate before August 1st, 2024.\n",
      "INFO | 12:36:14 | simulation finished after: 14.23 s\n",
      "INFO | 12:36:14 | performance summary: 30.35 ns/day, 158.15 mu s/step/atom\n"
     ]
    }
   ],
   "source": [
    "!apax md config_full.yaml md_config.yaml"
   ]
  },
  {
   "cell_type": "markdown",
   "metadata": {},
   "source": [
    "During the simulation, a progress bar tracks the instantaneous temperature at each outer step.\n",
    "The simulation is followed by a small oh bondlength distribution analyses of the trajectory defined [here](#bondlength)."
   ]
  },
  {
   "cell_type": "code",
   "execution_count": 11,
   "metadata": {},
   "outputs": [
    {
     "data": {
      "image/png": "[encoded data removed]",
      "text/plain": [
       "<Figure size 640x480 with 1 Axes>"
      ]
     },
     "metadata": {},
     "output_type": "display_data"
    }
   ],
   "source": [
    "import znh5md\n",
    "\n",
    "atoms = znh5md.IO(\"md/md.h5\")[:]\n",
    "plot_bondlength_distribution(atoms, indices=[2, -1])"
   ]
  },
  {
   "cell_type": "markdown",
   "metadata": {},
   "source": [
    "To remove all the created files and clean up yor working directory run"
   ]
  },
  {
   "cell_type": "code",
   "execution_count": 12,
   "metadata": {},
   "outputs": [],
   "source": [
    "!rm -rf project md config_full.yaml example.traj md_config.yaml"
   ]
  },
  {
   "cell_type": "code",
   "execution_count": null,
   "metadata": {},
   "outputs": [],
   "source": []
  }
 ],
 "metadata": {
  "kernelspec": {
   "display_name": "new_defaults",
   "language": "python",
   "name": "python3"
  },
  "language_info": {
   "codemirror_mode": {
    "name": "ipython",
    "version": 3
   },
   "file_extension": ".py",
   "mimetype": "text/x-python",
   "name": "python",
   "nbconvert_exporter": "python",
   "pygments_lexer": "ipython3",
   "version": "3.11.10"
  }
 },
 "nbformat": 4,
 "nbformat_minor": 2
}
