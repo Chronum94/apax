{
 "cells": [
  {
   "cell_type": "code",
   "execution_count": null,
   "metadata": {},
   "outputs": [],
   "source": [
    "import warnings\n",
    "warnings.simplefilter('ignore')"
   ]
  },
  {
   "cell_type": "markdown",
   "metadata": {},
   "source": [
    "# Molecular Dynamics\n",
    "\n",
    "In this tutorial we will cover how to use trained models to drive MD simulations.\n",
    "For this purpose, apax offers two options: ASE and JaxMD. Keep in mind that JaxMD can be GPU/TPU accelerated and is therefore much faster.\n",
    "Both will be covered below."
   ]
  },
  {
   "cell_type": "markdown",
   "metadata": {},
   "source": [
    "## Basic Model Training\n",
    "\n",
    "First we need to train a model.\n",
    "If you have the parameters from tutorial 01, you can point the paths to those models and skip the current section to the [ASE MD](##-The-ASE-calculator) or the [JaxMD](##-JaxMD) section."
   ]
  },
  {
   "cell_type": "code",
   "execution_count": null,
   "metadata": {},
   "outputs": [],
   "source": [
    "!apax template train    # generating the config file in the cwd"
   ]
  },
  {
   "cell_type": "code",
   "execution_count": null,
   "metadata": {},
   "outputs": [],
   "source": [
    "from pathlib import Path\n",
    "from apax.utils.datasets import download_etoh_ccsdt, mod_md_datasets\n",
    "from apax.train.run import run\n",
    "from apax.utils.helpers import mod_config\n",
    "import yaml\n",
    "\n",
    "\n",
    "# Download and modify the dataset\n",
    "data_path = Path(\"project\")\n",
    "experiment = \"etoh_md\"\n",
    "\n",
    "\n",
    "train_file_path, test_file_path = download_etoh_ccsdt(data_path)\n",
    "train_file_path = mod_md_datasets(train_file_path)\n",
    "test_file_path = mod_md_datasets(test_file_path)\n",
    "\n",
    "\n",
    "# Modify the config file (can be done manually)\n",
    "config_path = Path(\"config.yaml\")\n",
    "\n",
    "config_updates = {\n",
    "    \"n_epochs\": 100,\n",
    "    \"data\": {\n",
    "        \"n_train\": 990,\n",
    "        \"n_valid\": 10,\n",
    "        \"valid_batch_size\": 1,\n",
    "        \"experiment\": experiment,\n",
    "        \"directory\": \"project/models\",\n",
    "        \"data_path\": str(train_file_path),\n",
    "        \"test_data_path\": str(test_file_path),\n",
    "        \"energy_unit\": \"kcal/mol\",\n",
    "        \"pos_unit\": \"Ang\",\n",
    "    },\n",
    "    \"model\": {\n",
    "        \"descriptor_dtype\": \"fp64\"\n",
    "    },\n",
    "}\n",
    "config_dict = mod_config(config_path, config_updates)\n",
    "with open(\"config.yaml\", \"w\") as conf:\n",
    "    yaml.dump(config_dict, conf, default_flow_style=False)\n",
    "\n",
    "# Train model\n",
    "run(config_dict)\n"
   ]
  },
  {
   "cell_type": "markdown",
   "metadata": {},
   "source": [
    "## The ASE calculator\n",
    "\n",
    "If you require some ASE features during your simulation, we provide an alternative to the JaxMD interface.\n",
    "\n",
    "Please refer to the [ASE documentation](https://wiki.fysik.dtu.dk/ase/ase/calculators/calculators.html)  to see how to use ASE calculators.\n",
    "\n",
    "An ASE calculator of a trained model can be instantiated as follows. Subsequend a ASE-MD is performed and OH-bondlength distribution is analysed."
   ]
  },
  {
   "cell_type": "code",
   "execution_count": null,
   "metadata": {},
   "outputs": [],
   "source": [
    "from ase.io import read\n",
    "from apax.md import ASECalculator\n",
    "from ase.md.langevin import Langevin\n",
    "from ase import units\n",
    "from ase.io.trajectory import Trajectory\n",
    "\n",
    "\n",
    "# read starting structure and define modelpath\n",
    "atoms = read(train_file_path, index=0)\n",
    "model_dir = data_path / f\"models/{experiment}\"\n",
    "\n",
    "\n",
    "# initiolize the apax ase calculator and assign it to the starting structure\n",
    "calc = ASECalculator(model_dir=model_dir)\n",
    "atoms.calc = calc\n",
    "\n",
    "# perform MD simulation\n",
    "dyn = Langevin(\n",
    "    atoms=atoms,\n",
    "    timestep=0.5 * units.fs,\n",
    "    temperature_K=300,\n",
    "    friction=0.01 / units.fs,\n",
    ")\n",
    "\n",
    "traj = Trajectory('example.traj', 'w', atoms)\n",
    "dyn.attach(traj.write, interval=1)\n",
    "dyn.run(10000)\n",
    "traj.close()"
   ]
  },
  {
   "cell_type": "markdown",
   "metadata": {},
   "source": [
    "<a id='bondlength'></a>"
   ]
  },
  {
   "cell_type": "code",
   "execution_count": null,
   "metadata": {},
   "outputs": [],
   "source": [
    "import matplotlib.pyplot as plt\n",
    "import numpy as np\n",
    "\n",
    "def plot_bondlength_distribution(traj, indices: list, bins: int=25):\n",
    "    oh_dist = []\n",
    "    for atoms in traj:\n",
    "        oh_dist.append(atoms.get_distances(indices[0], indices[1]))\n",
    "\n",
    "    fig, axs = plt.subplots()\n",
    "    axs.hist(np.array(oh_dist), bins=25)\n",
    "    fig.show()"
   ]
  },
  {
   "cell_type": "code",
   "execution_count": null,
   "metadata": {},
   "outputs": [],
   "source": [
    "# plot OH bondlength distribution of the MLMD simulation\n",
    "traj = Trajectory('example.traj')\n",
    "plot_bondlength_distribution(traj, indices=[2, -1])\n"
   ]
  },
  {
   "cell_type": "markdown",
   "metadata": {},
   "source": [
    "## JaxMD\n",
    "\n",
    "While the ASE interface is convenient and flexible, it is not meant for high performance applications.\n",
    "For these purposes, apax comes with an interface to [JaxMD](https://jax-md.readthedocs.io/en/main/#).\n",
    "JaxMD is a high performance molecular dynamics engine built on top of [Jax](https://jax.readthedocs.io/en/latest/index.html).\n",
    "The CLI provides easy access to standard NVT and NPT simulations.\n",
    "More complex simulation loops are relatively easy to build yourself in JaxMD (see their colab notebooks for examples). \n",
    "Trained apax models can of course be used as `energy_fn` in such custom simulations.\n",
    "If you have a suggestion for adding some MD feature or thermostat to the core of `apax`, feel free to open up an issue on [Github]{https://github.com/apax-hub/apax}.\n"
   ]
  },
  {
   "cell_type": "markdown",
   "metadata": {},
   "source": [
    "### Configuration\n",
    "We can once again use the template command to give ourselves a quickstart.\n"
   ]
  },
  {
   "cell_type": "code",
   "execution_count": null,
   "metadata": {},
   "outputs": [],
   "source": [
    "!apax template md"
   ]
  },
  {
   "cell_type": "markdown",
   "metadata": {},
   "source": [
    "\n",
    "Open the config and specify the starting structure and simulation parameters.\n",
    "If you specify the data set file itself, the first structure of the data set is going to be used as the initial structure.\n",
    "Your `md_config_minimal.yaml` should look similar to this:\n",
    "\n",
    "```yaml\n",
    "ensemble:\n",
    "    temperature: 300 # K\n",
    "    \n",
    "duration: 20_000 # fs\n",
    "initial_structure: project/benzene_mod.xyz\n",
    "```\n"
   ]
  },
  {
   "cell_type": "code",
   "execution_count": null,
   "metadata": {},
   "outputs": [],
   "source": [
    "from apax.utils.helpers import mod_config\n",
    "import yaml\n",
    "\n",
    "\n",
    "md_config_path = Path(\"md_config.yaml\")\n",
    "\n",
    "config_updates = {\n",
    "    \"initial_structure\": str(train_file_path),    # if the model from example 01 is used change this\n",
    "    \"duration\": 5000, #fs\n",
    "    \"ensemble\": {\n",
    "        \"temperature\": 300,\n",
    "    }\n",
    "}\n",
    "config_dict = mod_config(md_config_path, config_updates)\n",
    "\n",
    "with open(md_config_path, \"w\") as conf:\n",
    "    yaml.dump(config_dict, conf, default_flow_style=False)"
   ]
  },
  {
   "cell_type": "markdown",
   "metadata": {},
   "source": [
    "\n",
    "As with training configurations, we can use the `validate` command to ensure our input is valid before we submit the calculation.\n"
   ]
  },
  {
   "cell_type": "code",
   "execution_count": null,
   "metadata": {},
   "outputs": [],
   "source": [
    "!apax validate md md_config.yaml"
   ]
  },
  {
   "cell_type": "markdown",
   "metadata": {},
   "source": [
    "## Running the simulation\n",
    "\n",
    "The simulation can be started by running where `config.yaml` is the configuration file that was used to train the model."
   ]
  },
  {
   "cell_type": "code",
   "execution_count": null,
   "metadata": {},
   "outputs": [],
   "source": [
    "!apax md config.yaml md_config.yaml\n"
   ]
  },
  {
   "cell_type": "markdown",
   "metadata": {},
   "source": [
    "During the simulation, a progress bar tracks the instantaneous temperature at each outer step.\n",
    "The simulation is followd by a small oh bondlength distribution analyses of the trajectory defined [here](#bondlength)."
   ]
  },
  {
   "cell_type": "code",
   "execution_count": null,
   "metadata": {},
   "outputs": [],
   "source": [
    "import znh5md\n",
    "\n",
    "atoms = znh5md.ASEH5MD(\"md/md.h5\").get_atoms_list()\n",
    "plot_bondlength_distribution(atoms, indices=[2, -1])"
   ]
  },
  {
   "cell_type": "markdown",
   "metadata": {},
   "source": [
    "To remove all the created files and clean up yor working directory run"
   ]
  },
  {
   "cell_type": "code",
   "execution_count": 1,
   "metadata": {},
   "outputs": [
    {
     "name": "stdout",
     "output_type": "stream",
     "text": [
      "rm: cannot remove 'project/models/etoh_md/.nfs00000000c5aa84b000000020': Device or resource busy\n"
     ]
    }
   ],
   "source": [
    "!rm -rf project md config.yaml example.traj md_config.yaml"
   ]
  },
  {
   "cell_type": "code",
   "execution_count": null,
   "metadata": {},
   "outputs": [],
   "source": []
  }
 ],
 "metadata": {
  "kernelspec": {
   "display_name": "apax",
   "language": "python",
   "name": "python3"
  },
  "language_info": {
   "codemirror_mode": {
    "name": "ipython",
    "version": 3
   },
   "file_extension": ".py",
   "mimetype": "text/x-python",
   "name": "python",
   "nbconvert_exporter": "python",
   "pygments_lexer": "ipython3",
   "version": "3.11.8"
  }
 },
 "nbformat": 4,
 "nbformat_minor": 2
}
