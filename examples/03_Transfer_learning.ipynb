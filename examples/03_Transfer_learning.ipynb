{
 "cells": [
  {
   "cell_type": "markdown",
   "metadata": {},
   "source": [
    "# Transfer Learning\n",
    "\n",
    "Datasets computed at high levels of theory are expensive and thus, usually small. \n",
    "A model trained on this data might not be able to generalize well to unseen configurations.\n",
    "Some times this can be remedied with transfer learning:\n",
    "By first training a model on a lot of data from a less expensive level of theory, only small adjustments to the parameters are required to accurately reproduce the potential energy surface of a different level of theory.\n",
    "\n",
    "\n",
    "Alternatively, the level of theory might not change, but the dataset is extended.\n",
    "This is the case in learning on the fly scenarios.\n",
    "For a demonstration of using transfer learning for learning on the fly, see the corresponding example from the IPSuite documentation LINK.\n",
    "\n",
    "\n",
    "apax comes with discriminative transfer learning capabilities out of the box.\n",
    "In this tutorial we are going to fine tune a model trained on benzene data at the DFT level of theory to CCSDT."
   ]
  },
  {
   "cell_type": "markdown",
   "metadata": {},
   "source": [
    "\n",
    "\n",
    "First download the appropriate dataset from the sgdml website.\n",
    "\n",
    "\n",
    "Transfer learning can be facilitated in apax by adding the path to a pre-trained model in the config.\n",
    "Furthermore, we can freeze or reduce the learning rate of various components by adjusting the `optimizer` section of the config.\n",
    "\n",
    "```yaml\n",
    "optimizer:\n",
    "    nn_lr: 0.004\n",
    "    embedding_lr: 0.0\n",
    "```\n",
    "\n",
    "Learning rates of 0.0 will mask the respective weights during training steps.\n",
    "Here, we will freeze the descriptor, reinitialize the scaling and shifting parameters and reduce the learning rate of all other components.\n",
    "\n",
    "We can now fine tune the model by running\n",
    "`apax train config.yaml`"
   ]
  },
  {
   "cell_type": "code",
   "execution_count": null,
   "metadata": {
    "vscode": {
     "languageId": "plaintext"
    }
   },
   "outputs": [],
   "source": [
    "from pathlib import Path\n",
    "from apax.utils.datasets import download_md17_benzene_CCSDT, mod_md17\n",
    "import os\n",
    "\n",
    "data_path = Path(\"project\")\n",
    "file_path = download_md17_benzene_CCSDT(data_path)\n",
    "os.remove(data_path / \"benzene_ccsd_t-test.xyz\")\n",
    "\n",
    "file_path = mod_md17(file_path)"
   ]
  }
 ],
 "metadata": {
  "language_info": {
   "name": "python"
  }
 },
 "nbformat": 4,
 "nbformat_minor": 2
}
