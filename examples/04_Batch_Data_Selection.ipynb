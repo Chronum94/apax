{
 "cells": [
  {
   "cell_type": "markdown",
   "metadata": {},
   "source": [
    "# Batch Active Learning\n",
    "\n",
    "While it is possible to perform rudimentary data selection simply by randomly choosing samples, the batch of data thus drawn might not be the most informative one.\n",
    "Choosing those samples whith the largest prediction uncertainties from trajectories often results in the selection of configurations from subsequent time steps.\n",
    "\n",
    "Batch selection methods can be constructed to select informative and diverse data, with or without following the underlying distribution.\n",
    "\n",
    "We will illustrate this in a mock learning on the fly setup."
   ]
  },
  {
   "cell_type": "code",
   "execution_count": null,
   "metadata": {},
   "outputs": [],
   "source": [
    "# TODO Model Training\n",
    "# TODO run MD\n",
    "# TODO illustrate selection vs max uncertainty"
   ]
  },
  {
   "cell_type": "code",
   "execution_count": null,
   "metadata": {},
   "outputs": [],
   "source": []
  }
 ],
 "metadata": {
  "language_info": {
   "name": "python"
  }
 },
 "nbformat": 4,
 "nbformat_minor": 2
}
