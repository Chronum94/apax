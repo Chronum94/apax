{
 "cells": [
  {
   "cell_type": "markdown",
   "metadata": {},
   "source": [
    "# Batch Active Learning\n",
    "\n",
    "While it is possible to perform rudimentary data selection simply by randomly choosing samples, the batch of data thus drawn might not be the most informative one.\n",
    "Choosing those samples with the largest prediction uncertainties from trajectories often results in the selection of configurations from subsequent time steps.\n",
    "\n",
    "Batch selection methods can be constructed to select informative and diverse data, with or without following the underlying distribution.\n",
    "\n",
    "We will illustrate this in a mock learning on the fly setup."
   ]
  },
  {
   "cell_type": "code",
   "execution_count": 1,
   "metadata": {},
   "outputs": [
    {
     "name": "stderr",
     "output_type": "stream",
     "text": [
      "WARNING: All log messages before absl::InitializeLog() is called are written to STDERR\n",
      "E0000 00:00:1732125763.498333  463862 cuda_dnn.cc:8310] Unable to register cuDNN factory: Attempting to register factory for plugin cuDNN when one has already been registered\n",
      "E0000 00:00:1732125763.501418  463862 cuda_blas.cc:1418] Unable to register cuBLAS factory: Attempting to register factory for plugin cuBLAS when one has already been registered\n"
     ]
    }
   ],
   "source": [
    "from pathlib import Path\n",
    "\n",
    "import matplotlib.pyplot as plt\n",
    "import numpy as np\n",
    "import yaml\n",
    "from ase import units\n",
    "from ase.io import read\n",
    "from ase.io.trajectory import TrajectoryWriter\n",
    "from ase.md.langevin import Langevin\n",
    "from ase.md.velocitydistribution import MaxwellBoltzmannDistribution\n",
    "from ase.optimize.fire import FIRE\n",
    "\n",
    "from apax.bal import api\n",
    "from apax.md import ASECalculator\n",
    "from apax.utils.datasets import download_md22_benzene_CCSDT, mod_md_datasets\n",
    "from apax.utils.helpers import mod_config"
   ]
  },
  {
   "cell_type": "markdown",
   "metadata": {},
   "source": [
    "## Dataset Acquisition"
   ]
  },
  {
   "cell_type": "code",
   "execution_count": 2,
   "metadata": {},
   "outputs": [],
   "source": [
    "# Download CCSD(T) Data\n",
    "data_path = Path(\"project\")\n",
    "cc_train_file_path, cc_val_file_path = download_md22_benzene_CCSDT(data_path)\n",
    "cc_train_file_path = mod_md_datasets(cc_train_file_path)\n",
    "cc_val_file_path = mod_md_datasets(cc_val_file_path)"
   ]
  },
  {
   "cell_type": "markdown",
   "metadata": {},
   "source": [
    "## Model Training\n",
    "\n",
    "Unlike simpler data selection methods, such as random selection, we first need to train a model.\n",
    "It is the representation learned by the model which will serve as the basis for our similarity metric."
   ]
  },
  {
   "cell_type": "code",
   "execution_count": 3,
   "metadata": {},
   "outputs": [
    {
     "name": "stdout",
     "output_type": "stream",
     "text": [
      "There is already a config file in the working directory.\n"
     ]
    }
   ],
   "source": [
    "!apax template train --full"
   ]
  },
  {
   "cell_type": "code",
   "execution_count": 4,
   "metadata": {},
   "outputs": [],
   "source": [
    "config_path = Path(\"config_full.yaml\")\n",
    "\n",
    "config_updates = {\n",
    "    \"n_epochs\": 200,\n",
    "    \"data\": {\n",
    "        \"batch_size\": 4,\n",
    "        \"valid_batch_size\": 100,\n",
    "        \"experiment\": \"benzene\",\n",
    "        \"directory\": \"project/models\",\n",
    "        \"train_data_path\": str(cc_train_file_path),\n",
    "        \"val_data_path\": str(cc_val_file_path),\n",
    "        \"data_path\": None,\n",
    "        \"energy_unit\": \"kcal/mol\",\n",
    "        \"pos_unit\": \"Ang\",\n",
    "    },\n",
    "}\n",
    "config_dict = mod_config(config_path, config_updates)\n",
    "\n",
    "with open(\"config_full.yaml\", \"w\") as conf:\n",
    "    yaml.dump(config_dict, conf, default_flow_style=False)"
   ]
  },
  {
   "cell_type": "code",
   "execution_count": 5,
   "metadata": {},
   "outputs": [
    {
     "name": "stdout",
     "output_type": "stream",
     "text": [
      "WARNING: All log messages before absl::InitializeLog() is called are written to STDERR\n",
      "E0000 00:00:1732125768.132223  463950 cuda_dnn.cc:8310] Unable to register cuDNN factory: Attempting to register factory for plugin cuDNN when one has already been registered\n",
      "E0000 00:00:1732125768.135407  463950 cuda_blas.cc:1418] Unable to register cuBLAS factory: Attempting to register factory for plugin cuBLAS when one has already been registered\n",
      "INFO | 18:02:49 | Running on [CudaDevice(id=0)]\n",
      "INFO | 18:02:49 | Initializing Callbacks\n",
      "INFO | 18:02:49 | Initializing Loss Function\n",
      "INFO | 18:02:49 | Initializing Metrics\n",
      "INFO | 18:02:49 | Running Input Pipeline\n",
      "INFO | 18:02:49 | Reading training data file project/benzene_ccsd_t-train_mod.xyz\n",
      "INFO | 18:02:49 | Reading validation data file project/benzene_ccsd_t-test_mod.xyz\n",
      "INFO | 18:02:50 | Found n_train: 1000, n_val: 500\n",
      "INFO | 18:02:50 | Computing per element energy regression.\n",
      "INFO | 18:02:51 | Building Standard model\n",
      "INFO | 18:02:51 | initializing 1 model(s)\n",
      "INFO | 18:02:57 | Initializing Optimizer\n",
      "INFO | 18:02:57 | Beginning Training\n",
      "INFO | 18:02:57 | Loading checkpoint\n",
      "WARNING | 18:02:57 | The transformations API will eventually be replaced by an upgraded design. The current API will not be removed until this point, but it will no longer be actively worked on.\n",
      "INFO | 18:02:57 | Successfully restored checkpoint from epoch 199\n",
      "\u001b[31m╭─\u001b[0m\u001b[31m────────────────────\u001b[0m\u001b[31m \u001b[0m\u001b[1;31mTraceback \u001b[0m\u001b[1;2;31m(most recent call last)\u001b[0m\u001b[31m \u001b[0m\u001b[31m─────────────────────\u001b[0m\u001b[31m─╮\u001b[0m\n",
      "\u001b[31m│\u001b[0m \u001b[2;33m/SCR1/segreto/dev/apax/apax/cli/\u001b[0m\u001b[1;33mapax_app.py\u001b[0m:\u001b[94m46\u001b[0m in \u001b[92mtrain\u001b[0m                      \u001b[31m│\u001b[0m\n",
      "\u001b[31m│\u001b[0m                                                                              \u001b[31m│\u001b[0m\n",
      "\u001b[31m│\u001b[0m   \u001b[2m 43 \u001b[0m\u001b[2;33m│   \u001b[0m\u001b[33m\"\"\"\u001b[0m                                                                \u001b[31m│\u001b[0m\n",
      "\u001b[31m│\u001b[0m   \u001b[2m 44 \u001b[0m\u001b[2m│   \u001b[0m\u001b[94mfrom\u001b[0m \u001b[4;96mapax\u001b[0m\u001b[4;96m.\u001b[0m\u001b[4;96mtrain\u001b[0m\u001b[4;96m.\u001b[0m\u001b[4;96mrun\u001b[0m \u001b[94mimport\u001b[0m run                                     \u001b[31m│\u001b[0m\n",
      "\u001b[31m│\u001b[0m   \u001b[2m 45 \u001b[0m\u001b[2m│   \u001b[0m                                                                   \u001b[31m│\u001b[0m\n",
      "\u001b[31m│\u001b[0m \u001b[31m❱ \u001b[0m 46 \u001b[2m│   \u001b[0mrun(train_config_path, log_level)                                  \u001b[31m│\u001b[0m\n",
      "\u001b[31m│\u001b[0m   \u001b[2m 47 \u001b[0m                                                                       \u001b[31m│\u001b[0m\n",
      "\u001b[31m│\u001b[0m   \u001b[2m 48 \u001b[0m                                                                       \u001b[31m│\u001b[0m\n",
      "\u001b[31m│\u001b[0m   \u001b[2m 49 \u001b[0m\u001b[1;95m@app\u001b[0m.command()                                                         \u001b[31m│\u001b[0m\n",
      "\u001b[31m│\u001b[0m                                                                              \u001b[31m│\u001b[0m\n",
      "\u001b[31m│\u001b[0m \u001b[2;33m/SCR1/segreto/dev/apax/apax/train/\u001b[0m\u001b[1;33mrun.py\u001b[0m:\u001b[94m206\u001b[0m in \u001b[92mrun\u001b[0m                          \u001b[31m│\u001b[0m\n",
      "\u001b[31m│\u001b[0m                                                                              \u001b[31m│\u001b[0m\n",
      "\u001b[31m│\u001b[0m   \u001b[2m203 \u001b[0m\u001b[2m│   \u001b[0m\u001b[94melse\u001b[0m:                                                              \u001b[31m│\u001b[0m\n",
      "\u001b[31m│\u001b[0m   \u001b[2m204 \u001b[0m\u001b[2m│   │   \u001b[0mema_handler = \u001b[94mNone\u001b[0m                                             \u001b[31m│\u001b[0m\n",
      "\u001b[31m│\u001b[0m   \u001b[2m205 \u001b[0m\u001b[2m│   \u001b[0m                                                                   \u001b[31m│\u001b[0m\n",
      "\u001b[31m│\u001b[0m \u001b[31m❱ \u001b[0m206 \u001b[2m│   \u001b[0mfit(                                                               \u001b[31m│\u001b[0m\n",
      "\u001b[31m│\u001b[0m   \u001b[2m207 \u001b[0m\u001b[2m│   │   \u001b[0mstate,                                                         \u001b[31m│\u001b[0m\n",
      "\u001b[31m│\u001b[0m   \u001b[2m208 \u001b[0m\u001b[2m│   │   \u001b[0mtrain_ds,                                                      \u001b[31m│\u001b[0m\n",
      "\u001b[31m│\u001b[0m   \u001b[2m209 \u001b[0m\u001b[2m│   │   \u001b[0mloss_fn,                                                       \u001b[31m│\u001b[0m\n",
      "\u001b[31m│\u001b[0m                                                                              \u001b[31m│\u001b[0m\n",
      "\u001b[31m│\u001b[0m \u001b[2;33m/SCR1/segreto/dev/apax/apax/train/\u001b[0m\u001b[1;33mtrainer.py\u001b[0m:\u001b[94m90\u001b[0m in \u001b[92mfit\u001b[0m                       \u001b[31m│\u001b[0m\n",
      "\u001b[31m│\u001b[0m                                                                              \u001b[31m│\u001b[0m\n",
      "\u001b[31m│\u001b[0m   \u001b[2m 87 \u001b[0m\u001b[2m│   \u001b[0m                                                                   \u001b[31m│\u001b[0m\n",
      "\u001b[31m│\u001b[0m   \u001b[2m 88 \u001b[0m\u001b[2m│   \u001b[0mstate, start_epoch = load_state(state, latest_dir)                 \u001b[31m│\u001b[0m\n",
      "\u001b[31m│\u001b[0m   \u001b[2m 89 \u001b[0m\u001b[2m│   \u001b[0m\u001b[94mif\u001b[0m start_epoch >= n_epochs:                                        \u001b[31m│\u001b[0m\n",
      "\u001b[31m│\u001b[0m \u001b[31m❱ \u001b[0m 90 \u001b[2m│   │   \u001b[0m\u001b[94mraise\u001b[0m \u001b[96mValueError\u001b[0m(                                              \u001b[31m│\u001b[0m\n",
      "\u001b[31m│\u001b[0m   \u001b[2m 91 \u001b[0m\u001b[2m│   │   │   \u001b[0m\u001b[33mf\u001b[0m\u001b[33m\"\u001b[0m\u001b[33mn_epochs <= current epoch from checkpoint (\u001b[0m\u001b[33m{\u001b[0mn_epochs\u001b[33m}\u001b[0m\u001b[33m <=\u001b[0m \u001b[31m│\u001b[0m\n",
      "\u001b[31m│\u001b[0m   \u001b[2m 92 \u001b[0m\u001b[2m│   │   \u001b[0m)                                                              \u001b[31m│\u001b[0m\n",
      "\u001b[31m│\u001b[0m   \u001b[2m 93 \u001b[0m                                                                       \u001b[31m│\u001b[0m\n",
      "\u001b[31m╰──────────────────────────────────────────────────────────────────────────────╯\u001b[0m\n",
      "\u001b[1;91mValueError: \u001b[0mn_epochs <= current epoch from checkpoint \u001b[1m(\u001b[0m\u001b[1;36m200\u001b[0m <= \u001b[1;36m200\u001b[0m\u001b[1m)\u001b[0m\n"
     ]
    }
   ],
   "source": [
    "!apax train config_full.yaml"
   ]
  },
  {
   "cell_type": "markdown",
   "metadata": {},
   "source": [
    "## Molecular Dynamics / Data Generation\n",
    "\n",
    "Now we will create a pool of data to select new samples from.\n",
    "In order to emphasize the selection method used in the next section, we will combine MD and geometry optimization, a common occurrence in learning on the fly."
   ]
  },
  {
   "cell_type": "code",
   "execution_count": 6,
   "metadata": {},
   "outputs": [],
   "source": [
    "atoms = read(str(cc_train_file_path), \"0\")\n",
    "calc = ASECalculator(\"project/models/benzene\")\n",
    "atoms.calc = calc"
   ]
  },
  {
   "cell_type": "code",
   "execution_count": 7,
   "metadata": {},
   "outputs": [
    {
     "name": "stdout",
     "output_type": "stream",
     "text": [
      "Energy per atom: Epot = -524.783eV  Ekin = 0.035eV (T=273K)  Etot = -524.747eV\n",
      "Energy per atom: Epot = -524.784eV  Ekin = 0.039eV (T=303K)  Etot = -524.745eV\n",
      "Energy per atom: Epot = -524.789eV  Ekin = 0.040eV (T=310K)  Etot = -524.749eV\n",
      "Energy per atom: Epot = -524.786eV  Ekin = 0.037eV (T=285K)  Etot = -524.749eV\n",
      "Energy per atom: Epot = -524.792eV  Ekin = 0.039eV (T=305K)  Etot = -524.753eV\n",
      "Energy per atom: Epot = -524.778eV  Ekin = 0.039eV (T=301K)  Etot = -524.739eV\n",
      "Energy per atom: Epot = -524.780eV  Ekin = 0.053eV (T=413K)  Etot = -524.727eV\n",
      "Energy per atom: Epot = -524.771eV  Ekin = 0.046eV (T=353K)  Etot = -524.726eV\n",
      "Energy per atom: Epot = -524.775eV  Ekin = 0.051eV (T=393K)  Etot = -524.724eV\n",
      "Energy per atom: Epot = -524.776eV  Ekin = 0.049eV (T=382K)  Etot = -524.726eV\n",
      "Energy per atom: Epot = -524.763eV  Ekin = 0.039eV (T=301K)  Etot = -524.724eV\n",
      "      Step     Time          Energy          fmax\n",
      "FIRE:    0 18:03:10    -6297.160709        4.643667\n",
      "FIRE:    1 18:03:10    -6297.568402        1.215557\n",
      "FIRE:    2 18:03:10    -6297.416246        3.988612\n",
      "FIRE:    3 18:03:10    -6297.546911        2.973441\n",
      "FIRE:    4 18:03:10    -6297.678424        1.334519\n",
      "FIRE:    5 18:03:10    -6297.695949        1.463297\n",
      "FIRE:    6 18:03:10    -6297.700549        1.363753\n",
      "FIRE:    7 18:03:10    -6297.708687        1.175066\n",
      "FIRE:    8 18:03:10    -6297.718344        0.913409\n",
      "FIRE:    9 18:03:10    -6297.727659        0.727679\n",
      "FIRE:   10 18:03:10    -6297.736589        0.619541\n",
      "FIRE:   11 18:03:10    -6297.742862        0.511749\n",
      "FIRE:   12 18:03:10    -6297.748436        0.697062\n",
      "FIRE:   13 18:03:10    -6297.755050        0.857826\n",
      "FIRE:   14 18:03:10    -6297.763414        0.924485\n",
      "FIRE:   15 18:03:10    -6297.775700        0.863180\n",
      "FIRE:   16 18:03:10    -6297.790781        0.655139\n",
      "FIRE:   17 18:03:10    -6297.805233        0.349130\n",
      "FIRE:   18 18:03:10    -6297.816560        0.393361\n",
      "FIRE:   19 18:03:10    -6297.826240        0.583213\n",
      "FIRE:   20 18:03:10    -6297.836858        0.470288\n",
      "FIRE:   21 18:03:10    -6297.846426        0.208600\n",
      "FIRE:   22 18:03:10    -6297.847673        0.452071\n",
      "FIRE:   23 18:03:10    -6297.849254        0.408002\n",
      "FIRE:   24 18:03:10    -6297.850233        0.325805\n",
      "FIRE:   25 18:03:10    -6297.851149        0.224788\n",
      "FIRE:   26 18:03:10    -6297.852456        0.150222\n",
      "FIRE:   27 18:03:10    -6297.852044        0.165351\n",
      "FIRE:   28 18:03:10    -6297.852139        0.215623\n",
      "FIRE:   29 18:03:10    -6297.851961        0.243710\n",
      "FIRE:   30 18:03:10    -6297.852954        0.222756\n",
      "FIRE:   31 18:03:10    -6297.854113        0.148616\n",
      "FIRE:   32 18:03:10    -6297.855736        0.084148\n",
      "FIRE:   33 18:03:10    -6297.855055        0.126039\n",
      "FIRE:   34 18:03:10    -6297.855310        0.187920\n",
      "FIRE:   35 18:03:10    -6297.856459        0.159655\n",
      "FIRE:   36 18:03:10    -6297.856218        0.078716\n",
      "FIRE:   37 18:03:10    -6297.857179        0.153488\n",
      "FIRE:   38 18:03:10    -6297.857669        0.133507\n",
      "FIRE:   39 18:03:10    -6297.857858        0.097674\n",
      "FIRE:   40 18:03:10    -6297.857554        0.054184\n",
      "FIRE:   41 18:03:10    -6297.857677        0.051685\n",
      "FIRE:   42 18:03:10    -6297.858031        0.076014\n",
      "FIRE:   43 18:03:10    -6297.858488        0.095619\n",
      "FIRE:   44 18:03:10    -6297.857724        0.098065\n",
      "FIRE:   45 18:03:10    -6297.857533        0.081023\n",
      "FIRE:   46 18:03:10    -6297.858317        0.043732\n"
     ]
    },
    {
     "data": {
      "text/plain": [
       "True"
      ]
     },
     "execution_count": 7,
     "metadata": {},
     "output_type": "execute_result"
    }
   ],
   "source": [
    "def printenergy(a=atoms):  # store a reference to atoms in the definition.\n",
    "    \"\"\"Function to print the potential, kinetic and total energy.\"\"\"\n",
    "    epot = a.get_potential_energy() / len(a)\n",
    "    ekin = a.get_kinetic_energy() / len(a)\n",
    "    print(\n",
    "        \"Energy per atom: Epot = %.3feV  Ekin = %.3feV (T=%3.0fK)  \"\n",
    "        \"Etot = %.3feV\" % (epot, ekin, ekin / (1.5 * units.kB), epot + ekin)\n",
    "    )\n",
    "\n",
    "\n",
    "writer = TrajectoryWriter(\"project/benzene.traj\", \"w\", atoms)\n",
    "\n",
    "MaxwellBoltzmannDistribution(atoms, temperature_K=298)\n",
    "dyn = Langevin(atoms, 0.5 * units.fs, temperature_K=298, friction=0.002)\n",
    "dyn.attach(writer, interval=100)\n",
    "dyn.attach(printenergy, interval=1000)\n",
    "dyn.run(10000)\n",
    "\n",
    "opt = FIRE(atoms)\n",
    "opt.attach(writer)\n",
    "opt.run()"
   ]
  },
  {
   "cell_type": "markdown",
   "metadata": {},
   "source": [
    "## Selecting New Datapoints\n",
    "\n",
    "Now it is time to select new data points from our pool.\n",
    "In the following we choose the last-layer gradient kernel as the similarity metric and the max dist selection method (farthest point sampling) to select 10 datapoints from out pool."
   ]
  },
  {
   "cell_type": "code",
   "execution_count": 8,
   "metadata": {},
   "outputs": [],
   "source": [
    "train_atoms = read(str(cc_train_file_path), \":\")\n",
    "pool_atoms = read(\"project/benzene.traj\", \":\")"
   ]
  },
  {
   "cell_type": "code",
   "execution_count": 9,
   "metadata": {},
   "outputs": [
    {
     "data": {
      "text/plain": [
       "148"
      ]
     },
     "execution_count": 9,
     "metadata": {},
     "output_type": "execute_result"
    }
   ],
   "source": [
    "len(pool_atoms)"
   ]
  },
  {
   "cell_type": "code",
   "execution_count": 10,
   "metadata": {},
   "outputs": [
    {
     "name": "stderr",
     "output_type": "stream",
     "text": [
      "Computing features: 100%|██████████████████████████████████████| 1148/1148 [00:02<00:00, 410.32it/s]\n"
     ]
    }
   ],
   "source": [
    "base_fm_options = {\"name\": \"ll_grad\", \"layer_name\": \"dense_2\"}\n",
    "selection_method = \"max_dist\"\n",
    "\n",
    "bs = 10\n",
    "\n",
    "selected_indices = api.kernel_selection(\n",
    "    \"project/models/benzene\",\n",
    "    train_atoms,\n",
    "    pool_atoms,\n",
    "    base_fm_options,\n",
    "    selection_method,\n",
    "    selection_batch_size=bs,\n",
    "    processing_batch_size=bs,\n",
    ")"
   ]
  },
  {
   "cell_type": "code",
   "execution_count": 11,
   "metadata": {},
   "outputs": [
    {
     "data": {
      "text/plain": [
       "(array([145,  99,  13,  28, 105,   8,   7,   3,  34,  77]),\n",
       " array([2.1153207e+04, 8.0031250e+01, 1.9972656e+01, 5.7343750e+00,\n",
       "        5.0390625e+00, 2.3984375e+00, 2.2890625e+00, 2.0976562e+00,\n",
       "        1.5156250e+00, 1.2968750e+00], dtype=float32),\n",
       " array([[-8.0443577e-08, -3.9290704e-08, -5.0462347e-07, ...,\n",
       "         -2.8600613e-07, -2.1077530e-12,  1.0578943e+01],\n",
       "        [-7.8728974e-08, -3.6814725e-08, -4.9945356e-07, ...,\n",
       "         -2.7572671e-07, -2.1329063e-12,  1.0578943e+01],\n",
       "        [-7.7208618e-08, -3.9166920e-08, -4.5074782e-07, ...,\n",
       "         -2.8476998e-07, -2.1711810e-12,  1.0578943e+01],\n",
       "        ...,\n",
       "        [-7.8029473e-08, -3.7501913e-08, -5.0669252e-07, ...,\n",
       "         -2.7671780e-07, -2.1255159e-12,  1.0578943e+01],\n",
       "        [-7.9816232e-08, -3.9418715e-08, -4.7391208e-07, ...,\n",
       "         -2.8574479e-07, -2.1665530e-12,  1.0578943e+01],\n",
       "        [-7.9606153e-08, -3.6622986e-08, -5.3845122e-07, ...,\n",
       "         -2.7972229e-07, -2.0286058e-12,  1.0578943e+01]], dtype=float32),\n",
       " array([[-8.0443577e-08, -3.9290704e-08, -5.0462347e-07, ...,\n",
       "         -2.8600633e-07, -2.1077530e-12,  1.0578943e+01],\n",
       "        [-7.6723715e-08, -4.3407518e-08, -3.9524843e-07, ...,\n",
       "         -2.9376406e-07, -2.1438441e-12,  1.0578943e+01],\n",
       "        [-7.1703973e-08, -2.9766772e-08, -4.5751801e-07, ...,\n",
       "         -2.5320008e-07, -1.6724249e-12,  1.0578943e+01],\n",
       "        ...,\n",
       "        [-8.3775660e-08, -4.6998672e-08, -4.5863644e-07, ...,\n",
       "         -3.1039335e-07, -2.4709093e-12,  1.0578943e+01],\n",
       "        [-8.3781032e-08, -4.7010957e-08, -4.5846181e-07, ...,\n",
       "         -3.1048981e-07, -2.4710767e-12,  1.0578943e+01],\n",
       "        [-8.3768818e-08, -4.7006104e-08, -4.5847912e-07, ...,\n",
       "         -3.1042489e-07, -2.4719324e-12,  1.0578943e+01]], dtype=float32))"
      ]
     },
     "execution_count": 11,
     "metadata": {},
     "output_type": "execute_result"
    }
   ],
   "source": [
    "selected_indices"
   ]
  },
  {
   "cell_type": "code",
   "execution_count": 12,
   "metadata": {},
   "outputs": [],
   "source": [
    "energies = np.array([a.get_potential_energy() for a in pool_atoms])\n",
    "# selected_indices = np.random.randint(0, len(energies), 10)\n",
    "selection_energies = energies[selected_indices[0]]"
   ]
  },
  {
   "cell_type": "markdown",
   "metadata": {},
   "source": [
    "As we can see below, the batch selection method only picks a few data points from the optimization part of the pool, indicating that during an optimization the structure of the molecule does not change very much.\n",
    "Hence, there are not many informative samples to be found in it."
   ]
  },
  {
   "cell_type": "code",
   "execution_count": 13,
   "metadata": {},
   "outputs": [
    {
     "data": {
      "text/plain": [
       "<matplotlib.legend.Legend at 0x7efe235b8e90>"
      ]
     },
     "execution_count": 13,
     "metadata": {},
     "output_type": "execute_result"
    },
    {
     "data": {
      "image/png": "[encoded data removed]",
      "text/plain": [
       "<Figure size 640x480 with 1 Axes>"
      ]
     },
     "metadata": {},
     "output_type": "display_data"
    }
   ],
   "source": [
    "fig, ax = plt.subplots()\n",
    "\n",
    "ax.plot(energies)\n",
    "ax.scatter(\n",
    "    selected_indices[0], selection_energies, marker=\"x\", color=\"red\", label=\"selection\"\n",
    ")\n",
    "ax.set_ylabel(\"Energy / eV\")\n",
    "ax.set_xlabel(\"Image\")\n",
    "ax.legend()"
   ]
  },
  {
   "cell_type": "code",
   "execution_count": null,
   "metadata": {},
   "outputs": [],
   "source": []
  }
 ],
 "metadata": {
  "kernelspec": {
   "display_name": "new_defaults",
   "language": "python",
   "name": "python3"
  },
  "language_info": {
   "codemirror_mode": {
    "name": "ipython",
    "version": 3
   },
   "file_extension": ".py",
   "mimetype": "text/x-python",
   "name": "python",
   "nbconvert_exporter": "python",
   "pygments_lexer": "ipython3",
   "version": "3.11.10"
  }
 },
 "nbformat": 4,
 "nbformat_minor": 2
}
