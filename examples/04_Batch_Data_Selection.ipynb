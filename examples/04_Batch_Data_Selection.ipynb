{
 "cells": [
  {
   "cell_type": "markdown",
   "metadata": {},
   "source": [
    "# Batch Active Learning\n",
    "\n",
    "While it is possible to perform rudimentary data selection simply by randomly choosing samples, the batch of data thus drawn might not be the most informative one.\n",
    "Choosing those samples with the largest prediction uncertainties from trajectories often results in the selection of configurations from subsequent time steps.\n",
    "\n",
    "Batch selection methods can be constructed to select informative and diverse data, with or without following the underlying distribution.\n",
    "\n",
    "We will illustrate this in a mock learning on the fly setup."
   ]
  },
  {
   "cell_type": "code",
   "execution_count": 1,
   "metadata": {},
   "outputs": [
    {
     "name": "stderr",
     "output_type": "stream",
     "text": [
      "WARNING: All log messages before absl::InitializeLog() is called are written to STDERR\n",
      "E0000 00:00:1732193422.542165  479577 cuda_dnn.cc:8310] Unable to register cuDNN factory: Attempting to register factory for plugin cuDNN when one has already been registered\n",
      "E0000 00:00:1732193422.545349  479577 cuda_blas.cc:1418] Unable to register cuBLAS factory: Attempting to register factory for plugin cuBLAS when one has already been registered\n"
     ]
    }
   ],
   "source": [
    "from pathlib import Path\n",
    "\n",
    "import matplotlib.pyplot as plt\n",
    "import numpy as np\n",
    "import yaml\n",
    "from ase import units\n",
    "from ase.io import read\n",
    "from ase.io.trajectory import TrajectoryWriter\n",
    "from ase.md.langevin import Langevin\n",
    "from ase.md.velocitydistribution import MaxwellBoltzmannDistribution\n",
    "from ase.optimize.fire import FIRE\n",
    "\n",
    "from apax.bal import api\n",
    "from apax.md import ASECalculator\n",
    "from apax.utils.datasets import download_md22_benzene_CCSDT, mod_md_datasets\n",
    "from apax.utils.helpers import mod_config"
   ]
  },
  {
   "cell_type": "markdown",
   "metadata": {},
   "source": [
    "## Dataset Acquisition"
   ]
  },
  {
   "cell_type": "code",
   "execution_count": 2,
   "metadata": {},
   "outputs": [],
   "source": [
    "# Download CCSD(T) Data\n",
    "data_path = Path(\"project\")\n",
    "cc_train_file_path, cc_val_file_path = download_md22_benzene_CCSDT(data_path)\n",
    "cc_train_file_path = mod_md_datasets(cc_train_file_path)\n",
    "cc_val_file_path = mod_md_datasets(cc_val_file_path)"
   ]
  },
  {
   "cell_type": "markdown",
   "metadata": {},
   "source": [
    "## Model Training\n",
    "\n",
    "Unlike simpler data selection methods, such as random selection, we first need to train a model.\n",
    "It is the representation learned by the model which will serve as the basis for our similarity metric."
   ]
  },
  {
   "cell_type": "code",
   "execution_count": 3,
   "metadata": {},
   "outputs": [],
   "source": [
    "!apax template train --full"
   ]
  },
  {
   "cell_type": "code",
   "execution_count": 4,
   "metadata": {},
   "outputs": [],
   "source": [
    "config_path = Path(\"config_full.yaml\")\n",
    "\n",
    "config_updates = {\n",
    "    \"n_epochs\": 200,\n",
    "    \"data\": {\n",
    "        \"batch_size\": 4,\n",
    "        \"valid_batch_size\": 100,\n",
    "        \"experiment\": \"benzene\",\n",
    "        \"directory\": \"project/models\",\n",
    "        \"train_data_path\": str(cc_train_file_path),\n",
    "        \"val_data_path\": str(cc_val_file_path),\n",
    "        \"data_path\": None,\n",
    "        \"energy_unit\": \"kcal/mol\",\n",
    "        \"pos_unit\": \"Ang\",\n",
    "    },\n",
    "}\n",
    "config_dict = mod_config(config_path, config_updates)\n",
    "\n",
    "with open(\"config_full.yaml\", \"w\") as conf:\n",
    "    yaml.dump(config_dict, conf, default_flow_style=False)"
   ]
  },
  {
   "cell_type": "code",
   "execution_count": 5,
   "metadata": {},
   "outputs": [
    {
     "name": "stdout",
     "output_type": "stream",
     "text": [
      "WARNING: All log messages before absl::InitializeLog() is called are written to STDERR\n",
      "E0000 00:00:1732193427.067501  479680 cuda_dnn.cc:8310] Unable to register cuDNN factory: Attempting to register factory for plugin cuDNN when one has already been registered\n",
      "E0000 00:00:1732193427.070561  479680 cuda_blas.cc:1418] Unable to register cuBLAS factory: Attempting to register factory for plugin cuBLAS when one has already been registered\n",
      "INFO | 12:50:28 | Running on [CudaDevice(id=0)]\n",
      "INFO | 12:50:28 | Initializing Callbacks\n",
      "INFO | 12:50:28 | Initializing Loss Function\n",
      "INFO | 12:50:28 | Initializing Metrics\n",
      "INFO | 12:50:28 | Running Input Pipeline\n",
      "INFO | 12:50:28 | Reading training data file project/benzene_ccsd_t-train_mod.xyz\n",
      "INFO | 12:50:28 | Reading validation data file project/benzene_ccsd_t-test_mod.xyz\n",
      "INFO | 12:50:29 | Found n_train: 1000, n_val: 500\n",
      "INFO | 12:50:29 | Computing per element energy regression.\n",
      "INFO | 12:50:30 | Building Standard model\n",
      "INFO | 12:50:30 | initializing 1 model(s)\n",
      "INFO | 12:50:36 | Initializing Optimizer\n",
      "INFO | 12:50:36 | Beginning Training\n",
      "Epochs:   0%|                                                               | 0/200 [00:00<?, ?it/s]WARNING | 12:50:45 | SaveArgs.aggregate is deprecated, please use custom TypeHandler (https://orbax.readthedocs.io/en/latest/custom_handlers.html#typehandler) or contact Orbax team to migrate before August 1st, 2024.\n",
      "Epochs: 100%|███████████████████████████████████| 200/200 [01:52<00:00,  1.77it/s, val_loss=0.00676]\n",
      "INFO | 12:52:29 | Finished training\n"
     ]
    }
   ],
   "source": [
    "!apax train config_full.yaml"
   ]
  },
  {
   "cell_type": "markdown",
   "metadata": {},
   "source": [
    "## Molecular Dynamics / Data Generation\n",
    "\n",
    "Now we will create a pool of data to select new samples from.\n",
    "In order to emphasize the selection method used in the next section, we will combine MD and geometry optimization, a common occurrence in learning on the fly."
   ]
  },
  {
   "cell_type": "code",
   "execution_count": 6,
   "metadata": {},
   "outputs": [],
   "source": [
    "atoms = read(str(cc_train_file_path), \"0\")\n",
    "calc = ASECalculator(\"project/models/benzene\")\n",
    "atoms.calc = calc"
   ]
  },
  {
   "cell_type": "code",
   "execution_count": 7,
   "metadata": {},
   "outputs": [
    {
     "name": "stdout",
     "output_type": "stream",
     "text": [
      "Energy per atom: Epot = -524.782eV  Ekin = 0.045eV (T=345K)  Etot = -524.738eV\n",
      "Energy per atom: Epot = -524.786eV  Ekin = 0.038eV (T=298K)  Etot = -524.747eV\n",
      "Energy per atom: Epot = -524.791eV  Ekin = 0.044eV (T=339K)  Etot = -524.748eV\n",
      "Energy per atom: Epot = -524.797eV  Ekin = 0.054eV (T=415K)  Etot = -524.743eV\n",
      "Energy per atom: Epot = -524.783eV  Ekin = 0.038eV (T=297K)  Etot = -524.745eV\n",
      "Energy per atom: Epot = -524.787eV  Ekin = 0.033eV (T=259K)  Etot = -524.754eV\n",
      "Energy per atom: Epot = -524.777eV  Ekin = 0.045eV (T=345K)  Etot = -524.732eV\n",
      "Energy per atom: Epot = -524.785eV  Ekin = 0.055eV (T=429K)  Etot = -524.729eV\n",
      "Energy per atom: Epot = -524.780eV  Ekin = 0.056eV (T=432K)  Etot = -524.724eV\n",
      "Energy per atom: Epot = -524.766eV  Ekin = 0.046eV (T=355K)  Etot = -524.720eV\n",
      "Energy per atom: Epot = -524.772eV  Ekin = 0.041eV (T=317K)  Etot = -524.731eV\n",
      "      Step     Time          Energy          fmax\n",
      "FIRE:    0 12:52:42    -6297.264360        5.423857\n",
      "FIRE:    1 12:52:42    -6297.609658        1.502605\n",
      "FIRE:    2 12:52:42    -6297.523199        3.777474\n",
      "FIRE:    3 12:52:42    -6297.613436        2.808250\n",
      "FIRE:    4 12:52:42    -6297.710647        1.318416\n",
      "FIRE:    5 12:52:42    -6297.732651        1.002536\n",
      "FIRE:    6 12:52:42    -6297.734619        0.951556\n",
      "FIRE:    7 12:52:42    -6297.739271        0.854423\n",
      "FIRE:    8 12:52:42    -6297.744342        0.720111\n",
      "FIRE:    9 12:52:42    -6297.748631        0.561626\n",
      "FIRE:   10 12:52:42    -6297.753220        0.451451\n",
      "FIRE:   11 12:52:42    -6297.757983        0.410528\n",
      "FIRE:   12 12:52:42    -6297.760732        0.378981\n",
      "FIRE:   13 12:52:42    -6297.766621        0.402638\n",
      "FIRE:   14 12:52:42    -6297.772283        0.429111\n",
      "FIRE:   15 12:52:42    -6297.777292        0.424979\n",
      "FIRE:   16 12:52:42    -6297.787293        0.377016\n",
      "FIRE:   17 12:52:42    -6297.796003        0.292520\n",
      "FIRE:   18 12:52:42    -6297.803891        0.278990\n",
      "FIRE:   19 12:52:42    -6297.810827        0.359239\n",
      "FIRE:   20 12:52:42    -6297.817619        0.371433\n",
      "FIRE:   21 12:52:42    -6297.826738        0.233386\n",
      "FIRE:   22 12:52:42    -6297.833571        0.218632\n",
      "FIRE:   23 12:52:42    -6297.838718        0.295970\n",
      "FIRE:   24 12:52:42    -6297.843257        0.201275\n",
      "FIRE:   25 12:52:42    -6297.843875        0.227957\n",
      "FIRE:   26 12:52:42    -6297.844711        0.182659\n",
      "FIRE:   27 12:52:42    -6297.845904        0.126734\n",
      "FIRE:   28 12:52:42    -6297.846748        0.127339\n",
      "FIRE:   29 12:52:42    -6297.846318        0.127840\n",
      "FIRE:   30 12:52:42    -6297.847683        0.174191\n",
      "FIRE:   31 12:52:42    -6297.847996        0.178432\n",
      "FIRE:   32 12:52:42    -6297.848355        0.137654\n",
      "FIRE:   33 12:52:42    -6297.849762        0.101414\n",
      "FIRE:   34 12:52:42    -6297.850318        0.090312\n",
      "FIRE:   35 12:52:42    -6297.850075        0.117385\n",
      "FIRE:   36 12:52:42    -6297.851986        0.092180\n",
      "FIRE:   37 12:52:42    -6297.852179        0.065363\n",
      "FIRE:   38 12:52:42    -6297.853738        0.110265\n",
      "FIRE:   39 12:52:42    -6297.853361        0.073035\n",
      "FIRE:   40 12:52:42    -6297.854324        0.074207\n",
      "FIRE:   41 12:52:42    -6297.856261        0.099864\n",
      "FIRE:   42 12:52:42    -6297.856142        0.060285\n",
      "FIRE:   43 12:52:42    -6297.857665        0.071740\n",
      "FIRE:   44 12:52:42    -6297.857772        0.112350\n",
      "FIRE:   45 12:52:42    -6297.856789        0.062306\n",
      "FIRE:   46 12:52:42    -6297.856566        0.032937\n"
     ]
    },
    {
     "data": {
      "text/plain": [
       "True"
      ]
     },
     "execution_count": 7,
     "metadata": {},
     "output_type": "execute_result"
    }
   ],
   "source": [
    "def printenergy(a=atoms):  # store a reference to atoms in the definition.\n",
    "    \"\"\"Function to print the potential, kinetic and total energy.\"\"\"\n",
    "    epot = a.get_potential_energy() / len(a)\n",
    "    ekin = a.get_kinetic_energy() / len(a)\n",
    "    print(\n",
    "        \"Energy per atom: Epot = %.3feV  Ekin = %.3feV (T=%3.0fK)  \"\n",
    "        \"Etot = %.3feV\" % (epot, ekin, ekin / (1.5 * units.kB), epot + ekin)\n",
    "    )\n",
    "\n",
    "\n",
    "writer = TrajectoryWriter(\"project/benzene.traj\", \"w\", atoms)\n",
    "\n",
    "MaxwellBoltzmannDistribution(atoms, temperature_K=298)\n",
    "dyn = Langevin(atoms, 0.5 * units.fs, temperature_K=298, friction=0.002)\n",
    "dyn.attach(writer, interval=100)\n",
    "dyn.attach(printenergy, interval=1000)\n",
    "dyn.run(10000)\n",
    "\n",
    "opt = FIRE(atoms)\n",
    "opt.attach(writer)\n",
    "opt.run()"
   ]
  },
  {
   "cell_type": "markdown",
   "metadata": {},
   "source": [
    "## Selecting New Datapoints\n",
    "\n",
    "Now it is time to select new data points from our pool.\n",
    "In the following we choose the last-layer gradient kernel as the similarity metric and the max dist selection method (farthest point sampling) to select 10 datapoints from out pool."
   ]
  },
  {
   "cell_type": "code",
   "execution_count": 8,
   "metadata": {},
   "outputs": [],
   "source": [
    "train_atoms = read(str(cc_train_file_path), \":\")\n",
    "pool_atoms = read(\"project/benzene.traj\", \":\")"
   ]
  },
  {
   "cell_type": "code",
   "execution_count": 9,
   "metadata": {},
   "outputs": [
    {
     "data": {
      "text/plain": [
       "148"
      ]
     },
     "execution_count": 9,
     "metadata": {},
     "output_type": "execute_result"
    }
   ],
   "source": [
    "len(pool_atoms)"
   ]
  },
  {
   "cell_type": "code",
   "execution_count": 10,
   "metadata": {},
   "outputs": [
    {
     "name": "stderr",
     "output_type": "stream",
     "text": [
      "Computing features: 100%|██████████████████████████████████████| 1148/1148 [00:02<00:00, 434.57it/s]\n"
     ]
    }
   ],
   "source": [
    "base_fm_options = {\"name\": \"ll_grad\", \"layer_name\": \"dense_2\"}\n",
    "selection_method = \"max_dist\"\n",
    "\n",
    "bs = 10\n",
    "\n",
    "selected_indices = api.kernel_selection(\n",
    "    \"project/models/benzene\",\n",
    "    train_atoms,\n",
    "    pool_atoms,\n",
    "    base_fm_options,\n",
    "    selection_method,\n",
    "    selection_batch_size=bs,\n",
    "    processing_batch_size=bs,\n",
    ")"
   ]
  },
  {
   "cell_type": "code",
   "execution_count": 11,
   "metadata": {},
   "outputs": [
    {
     "data": {
      "text/plain": [
       "(array([127,  85,  73,  82,  19,  95,  26,  30,   4,   5]),\n",
       " array([1.2732200e+05, 3.1276562e+02, 9.2281250e+01, 6.8921875e+01,\n",
       "        2.7906250e+01, 2.3593750e+01, 2.3109375e+01, 1.4125000e+01,\n",
       "        1.1515625e+01, 1.0906250e+01], dtype=float32),\n",
       " array([[-1.02811443e-16, -1.15199308e-08, -6.91606624e-12, ...,\n",
       "         -3.46590080e-16, -1.09975839e-11,  7.53225851e+00],\n",
       "        [-8.95747069e-17, -1.12410099e-08, -1.78736073e-12, ...,\n",
       "         -2.70460796e-16, -9.23120261e-12,  7.53225851e+00],\n",
       "        [-1.09106625e-16, -1.10739000e-08, -1.27026905e-12, ...,\n",
       "         -3.80384603e-16, -1.05209400e-11,  7.53225851e+00],\n",
       "        ...,\n",
       "        [-9.81537147e-17, -1.13610081e-08, -1.53432952e-12, ...,\n",
       "         -3.13202873e-16, -9.99714547e-12,  7.53225851e+00],\n",
       "        [-1.01867855e-16, -1.11062928e-08, -2.01783685e-12, ...,\n",
       "         -3.15307803e-16, -1.00044122e-11,  7.53225851e+00],\n",
       "        [-1.05319388e-16, -1.19797869e-08, -1.89715279e-12, ...,\n",
       "         -3.41599361e-16, -1.05473148e-11,  7.53225851e+00]], dtype=float32),\n",
       " array([[-1.02811443e-16, -1.15199308e-08, -6.91606624e-12, ...,\n",
       "         -3.46590080e-16, -1.09975839e-11,  7.53225851e+00],\n",
       "        [-1.46815585e-16, -9.72700320e-09, -3.21329877e-12, ...,\n",
       "         -5.79306373e-16, -1.21680201e-11,  7.53225851e+00],\n",
       "        [-1.00780576e-16, -1.24630404e-08, -4.19124934e-12, ...,\n",
       "         -3.19022069e-16, -1.05446875e-11,  7.53225851e+00],\n",
       "        ...,\n",
       "        [-1.10570702e-16, -1.02983568e-08, -1.36763127e-12, ...,\n",
       "         -3.16782990e-16, -9.38918214e-12,  7.53225851e+00],\n",
       "        [-1.10698180e-16, -1.03127560e-08, -1.36684837e-12, ...,\n",
       "         -3.17149226e-16, -9.39629798e-12,  7.53225851e+00],\n",
       "        [-1.10852711e-16, -1.03169393e-08, -1.37234115e-12, ...,\n",
       "         -3.17548020e-16, -9.40592135e-12,  7.53225851e+00]], dtype=float32))"
      ]
     },
     "execution_count": 11,
     "metadata": {},
     "output_type": "execute_result"
    }
   ],
   "source": [
    "selected_indices"
   ]
  },
  {
   "cell_type": "code",
   "execution_count": 12,
   "metadata": {},
   "outputs": [],
   "source": [
    "energies = np.array([a.get_potential_energy() for a in pool_atoms])\n",
    "# selected_indices = np.random.randint(0, len(energies), 10)\n",
    "selection_energies = energies[selected_indices[0]]"
   ]
  },
  {
   "cell_type": "markdown",
   "metadata": {},
   "source": [
    "As we can see below, the batch selection method only picks a few data points from the optimization part of the pool, indicating that during an optimization the structure of the molecule does not change very much.\n",
    "Hence, there are not many informative samples to be found in it."
   ]
  },
  {
   "cell_type": "code",
   "execution_count": 13,
   "metadata": {},
   "outputs": [
    {
     "data": {
      "text/plain": [
       "<matplotlib.legend.Legend at 0x7f837c5cab10>"
      ]
     },
     "execution_count": 13,
     "metadata": {},
     "output_type": "execute_result"
    },
    {
     "data": {
      "image/png": "[encoded data removed]",
      "text/plain": [
       "<Figure size 640x480 with 1 Axes>"
      ]
     },
     "metadata": {},
     "output_type": "display_data"
    }
   ],
   "source": [
    "fig, ax = plt.subplots()\n",
    "\n",
    "ax.plot(energies)\n",
    "ax.scatter(\n",
    "    selected_indices[0], selection_energies, marker=\"x\", color=\"red\", label=\"selection\"\n",
    ")\n",
    "ax.set_ylabel(\"Energy / eV\")\n",
    "ax.set_xlabel(\"Image\")\n",
    "ax.legend()"
   ]
  },
  {
   "cell_type": "code",
   "execution_count": 1,
   "metadata": {},
   "outputs": [],
   "source": [
    "!rm -rf project config_full.yaml"
   ]
  },
  {
   "cell_type": "code",
   "execution_count": null,
   "metadata": {},
   "outputs": [],
   "source": []
  }
 ],
 "metadata": {
  "kernelspec": {
   "display_name": "new_defaults",
   "language": "python",
   "name": "python3"
  },
  "language_info": {
   "codemirror_mode": {
    "name": "ipython",
    "version": 3
   },
   "file_extension": ".py",
   "mimetype": "text/x-python",
   "name": "python",
   "nbconvert_exporter": "python",
   "pygments_lexer": "ipython3",
   "version": "3.11.10"
  }
 },
 "nbformat": 4,
 "nbformat_minor": 2
}
