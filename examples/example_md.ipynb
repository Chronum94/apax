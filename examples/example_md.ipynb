{
 "cells": [
  {
   "cell_type": "code",
   "execution_count": 1,
   "metadata": {},
   "outputs": [],
   "source": [
    "from jax.config import config\n",
    "config.update(\"jax_enable_x64\", True)\n",
    "import haiku as hk\n",
    "from ase import Atoms\n",
    "import numpy as np\n",
    "from typing import List, Optional\n",
    "from jax_md import partition\n",
    "from jax_md import partition, space\n",
    "from jax_md.util import high_precision_sum\n",
    "import jax\n",
    "import jax.numpy as jnp\n",
    "import einops\n",
    "from typing import Sequence, Any\n",
    "from jax.tree_util import Partial\n",
    "from ase.io import read\n",
    "\n",
    "from gmnn_jax.utils.weight_transfer import transfer_parameters\n",
    "from gmnn_jax.model import GMNN\n",
    "\n",
    "\n",
    "def convert_ase_to_data_dict(atoms_list: List[Atoms]):\n",
    "    \"\"\"Converts a list of ASE Atoms objects into a dictionary containing numpy arrays.\n",
    "    All arrays containing per-atom quantities (e.g. positions, forces) are zero-padded\n",
    "    to have the same size as the largest structure in the list.\n",
    "    \"\"\"\n",
    "    n_data = len(atoms_list)\n",
    "    n_maxat = max([len(atoms) for atoms in atoms_list])\n",
    "\n",
    "    key_map = {\"energy\": \"energy\", \"forces\": \"forces\", \"stress\": \"stress\"}\n",
    "\n",
    "    data = {\n",
    "        \"numbers\": np.zeros((n_data, n_maxat), dtype=np.int64),  # atomic numbers\n",
    "        \"n_atoms\": np.zeros((n_data,), dtype=np.int64),  # number of atoms\n",
    "        \"positions\": np.zeros(\n",
    "            (n_data, n_maxat, 3), dtype=np.float64\n",
    "        ),  # Cartesian coordinates\n",
    "        \"energy\": np.zeros((n_data,), dtype=np.float64),  # total energies\n",
    "        \"forces\": np.zeros((n_data, n_maxat, 3), dtype=np.float64),  # atomic forces\n",
    "        \"cell\": np.zeros((n_data, 3, 3), dtype=np.float64),  # periodic cell\n",
    "        \"stress\": np.zeros((n_data, 3, 3), dtype=np.float64),\n",
    "        \"charge\": np.zeros((n_data,), dtype=np.float64),\n",
    "        \"dipole\": np.zeros((n_data, 6), dtype=np.float64),\n",
    "        \"mat\": np.zeros((n_data, 6), dtype=np.float64),\n",
    "    }\n",
    "\n",
    "    for ii, atoms in enumerate(atoms_list):\n",
    "        data[\"numbers\"][ii, : len(atoms)] = atoms.get_atomic_numbers()\n",
    "        data[\"n_atoms\"][ii] = len(atoms)\n",
    "        data[\"positions\"][ii, : len(atoms), :] = atoms.get_positions()\n",
    "        data[\"cell\"][ii] = atoms.get_cell()\n",
    "\n",
    "        if atoms.calc is not None:\n",
    "            results = {key_map.get(k, k): v for k, v in atoms.calc.results.items()}\n",
    "            for k, v in results.items():\n",
    "                if k == \"forces\":\n",
    "                    data[\"forces\"][ii, : len(atoms), :] = v\n",
    "                else:\n",
    "                    data[k][ii] = v\n",
    "\n",
    "    pruned_data = {k: v for k, v in data.items() if np.any(np.abs(v) > 1e-6)}\n",
    "\n",
    "    return pruned_data\n",
    "\n",
    "\n",
    "def get_model(\n",
    "    atomic_numbers,\n",
    "    units,\n",
    "    displacement,\n",
    "    box_size: float=10.0,\n",
    "    cutoff_distance=6.0,\n",
    "    n_basis=7,\n",
    "    n_radial=5,\n",
    "    dr_threshold=0.5,\n",
    "    nl_format: partition.NeighborListFormat=partition.Sparse,\n",
    "    **neighbor_kwargs\n",
    "    ):\n",
    "    neighbor_fn = partition.neighbor_list(\n",
    "        displacement,\n",
    "        box_size,\n",
    "        cutoff_distance,\n",
    "        dr_threshold,\n",
    "        fractional_coordinates=False,\n",
    "        format=nl_format,\n",
    "        **neighbor_kwargs\n",
    "        )\n",
    "\n",
    "    n_atoms = atomic_numbers.shape[0]\n",
    "    Z = jnp.asarray(atomic_numbers)\n",
    "    n_species = 9#10#jnp.max(Z)\n",
    "    \n",
    "    @hk.without_apply_rng\n",
    "    @hk.transform\n",
    "    def model(R, neighbor):\n",
    "        gmnn = GMNN(\n",
    "            units,\n",
    "            displacement,\n",
    "            n_atoms=n_atoms,\n",
    "            n_basis=n_basis,\n",
    "            n_radial=n_radial,\n",
    "            n_species=n_species,\n",
    "        )\n",
    "        out = gmnn(R, Z, neighbor)\n",
    "        # mask = partition.neighbor_list_mask(neighbor)\n",
    "        # out = out * mask\n",
    "        return high_precision_sum(out) # jnp.sum(out)\n",
    "\n",
    "    return neighbor_fn, model.init, model.apply\n",
    "\n",
    "\n",
    "trained_params = np.load(\"./etoh_model_params.npz\")\n",
    "# print(trained_params.files)\n",
    "# for name in trained_params.files:\n",
    "#     print(name)\n",
    "# quit()\n",
    "\n",
    "\n",
    "# atoms = read(\"raw_data/ds.extxyz\")\n",
    "atoms = read(\"ethanol.traj\")"
   ]
  },
  {
   "cell_type": "code",
   "execution_count": 2,
   "metadata": {},
   "outputs": [
    {
     "name": "stderr",
     "output_type": "stream",
     "text": [
      "/home/ms/miniconda3/envs/gmax/lib/python3.9/site-packages/jax/_src/ops/scatter.py:87: FutureWarning: scatter inputs have incompatible types: cannot safely cast value from dtype=int64 to dtype=int32. In future JAX releases this will result in an error.\n",
      "  warnings.warn(\"scatter inputs have incompatible types: cannot safely cast \"\n"
     ]
    },
    {
     "name": "stdout",
     "output_type": "stream",
     "text": [
      "-97159.6679311938\n",
      "[[-5.30348755 -3.28318722 -3.44235098]\n",
      " [-8.86077721 -4.4744465   4.40773533]\n",
      " [ 2.57754753  2.04141467 -1.77634654]\n",
      " [ 4.99685481  5.66539417  2.39515222]\n",
      " [-0.66234355 -0.28186489  1.91485807]\n",
      " [-0.07846298 -1.92709607 -1.25942134]\n",
      " [ 5.49081969  2.38676672 -1.14964303]\n",
      " [ 3.47984819  3.25736062 -1.14081617]\n",
      " [-1.63999893 -3.38434149  0.05083245]]\n"
     ]
    }
   ],
   "source": [
    "data = convert_ase_to_data_dict([atoms])\n",
    "data = {k: jnp.asarray(v[0]) for k,v in data.items()}\n",
    "\n",
    "# box_size = data[\"cell\"][0,0]\n",
    "box_size = None\n",
    "r_cutoff = 6.0\n",
    "nl_format = partition.Sparse\n",
    "# displacement_fn, shift_fn = space.periodic(box_size)\n",
    "displacement_fn, shift_fn = space.free()\n",
    "\n",
    "neighbor_fn, model_init, model = get_model(\n",
    "    atomic_numbers=data[\"numbers\"],\n",
    "    units=[512,512],\n",
    "    displacement=displacement_fn,\n",
    "    box_size=box_size,\n",
    "    cutoff_distance=r_cutoff,\n",
    "    dr_threshold=0.0,\n",
    "    )\n",
    "neighbor = neighbor_fn.allocate(data[\"positions\"], extra_capacity=0)\n",
    "# mask = partition.neighbor_list_mask(neighbor)\n",
    "# intmask = mask.astype(int)\n",
    "# n_neighbors = jnp.sum(intmask)\n",
    "# print(set(np.asarray(neighbor.idx[0])))\n",
    "\n",
    "\n",
    "# print(n_neighbors)\n",
    "# quit()\n",
    "rng_key = jax.random.PRNGKey(42)\n",
    "params = model_init(rng=rng_key, R=data[\"positions\"], neighbor=neighbor)\n",
    "# print(params.keys())\n",
    "# quit()\n",
    "\n",
    "# quit()\n",
    "transfered_params = transfer_parameters(params, trained_params)\n",
    "\n",
    "result = model(params=transfered_params, R=data[\"positions\"], neighbor=neighbor) # , data[\"numbers\"]\n",
    "print(result)\n",
    "\n",
    "F = jax.grad(model, argnums=1)(transfered_params, data[\"positions\"], neighbor)\n",
    "print(F)\n",
    "# coords are equal\n",
    "# n_neighborsare equal\n",
    "\n"
   ]
  },
  {
   "cell_type": "code",
   "execution_count": 3,
   "metadata": {},
   "outputs": [
    {
     "data": {
      "text/plain": [
       "DeviceArray(-97159.66793119, dtype=float64)"
      ]
     },
     "execution_count": 3,
     "metadata": {},
     "output_type": "execute_result"
    }
   ],
   "source": [
    "from functools import partial\n",
    "\n",
    "energy_fn = partial(model,transfered_params)\n",
    "result = energy_fn(data[\"positions\"], neighbor)\n",
    "result\n"
   ]
  },
  {
   "cell_type": "code",
   "execution_count": 4,
   "metadata": {},
   "outputs": [
    {
     "data": {
      "text/plain": [
       "(DeviceArray([6, 6, 1, 1, 1, 1, 8, 1, 1], dtype=int64),\n",
       " array([12.011, 12.011,  1.008,  1.008,  1.008,  1.008, 15.999,  1.008,\n",
       "         1.008]))"
      ]
     },
     "execution_count": 4,
     "metadata": {},
     "output_type": "execute_result"
    }
   ],
   "source": [
    "data[\"numbers\"], atoms.get_masses()"
   ]
  },
  {
   "cell_type": "code",
   "execution_count": 6,
   "metadata": {},
   "outputs": [],
   "source": [
    "from jax_md import simulate\n",
    "from ase import units\n",
    "K_B = 8.617e-5\n",
    "dt = 0.5 * units.fs\n",
    "kT = K_B * 200\n",
    "# Si_mass = 2.91086E-3\n",
    "masses = jnp.array(atoms.get_masses())\n",
    "\n",
    "init_fn, apply_fn = simulate.nvt_nose_hoover(energy_fn, shift_fn, dt, kT)\n",
    "\n",
    "apply_fn = jax.jit(apply_fn)"
   ]
  },
  {
   "cell_type": "code",
   "execution_count": 7,
   "metadata": {},
   "outputs": [
    {
     "data": {
      "text/plain": [
       "NVTNoseHooverState(position=DeviceArray([[-3.68683679,  2.36186247, -0.29336568],\n",
       "             [-3.78000175,  0.92056215,  0.21397447],\n",
       "             [-3.42405028,  2.37994027, -1.36304911],\n",
       "             [-2.93796942,  2.97120768,  0.25672536],\n",
       "             [-4.67591426,  2.82840412, -0.18108502],\n",
       "             [-2.82737916,  0.37769472,  0.05450457],\n",
       "             [-4.82847316,  0.30119435, -0.53156614],\n",
       "             [-3.96906495,  0.92205407,  1.30280436],\n",
       "             [-4.89959806, -0.62270479, -0.21510487]], dtype=float64), momentum=DeviceArray([[-0.85630635, -0.05643766, -0.30167575],\n",
       "             [ 0.20351371,  0.40557841,  0.39048464],\n",
       "             [ 0.15760368,  0.30039093, -0.15663619],\n",
       "             [ 0.11643982, -0.06655513,  0.09720758],\n",
       "             [ 0.22542999, -0.2626623 , -0.1294574 ],\n",
       "             [ 0.10284429,  0.06528132, -0.12404784],\n",
       "             [-0.30186973,  0.02585869,  0.20906192],\n",
       "             [ 0.27107071, -0.1171036 ,  0.08199368],\n",
       "             [ 0.08127389, -0.29435066, -0.06693063]], dtype=float64), force=DeviceArray([[ 5.30348755,  3.28318722,  3.44235098],\n",
       "             [ 8.86077721,  4.4744465 , -4.40773533],\n",
       "             [-2.57754753, -2.04141467,  1.77634654],\n",
       "             [-4.99685481, -5.66539417, -2.39515222],\n",
       "             [ 0.66234355,  0.28186489, -1.91485807],\n",
       "             [ 0.07846298,  1.92709607,  1.25942134],\n",
       "             [-5.49081969, -2.38676672,  1.14964303],\n",
       "             [-3.47984819, -3.25736062,  1.14081617],\n",
       "             [ 1.63999893,  3.38434149, -0.05083245]], dtype=float64), mass=DeviceArray([[12.011],\n",
       "             [12.011],\n",
       "             [ 1.008],\n",
       "             [ 1.008],\n",
       "             [ 1.008],\n",
       "             [ 1.008],\n",
       "             [15.999],\n",
       "             [ 1.008],\n",
       "             [ 1.008]], dtype=float64), chain=NoseHooverChain(position=DeviceArray([0., 0., 0., 0., 0.], dtype=float64), momentum=DeviceArray([0., 0., 0., 0., 0.], dtype=float64), mass=DeviceArray([11.224091  ,  0.41570705,  0.41570705,  0.41570705,\n",
       "              0.41570705], dtype=float32), tau=DeviceArray(4.9113474, dtype=float32), kinetic_energy=DeviceArray(0.31425658, dtype=float64), degrees_of_freedom=27))"
      ]
     },
     "execution_count": 7,
     "metadata": {},
     "output_type": "execute_result"
    }
   ],
   "source": [
    "state = init_fn(jax.random.PRNGKey(0), data[\"positions\"], masses, neighbor=neighbor)\n",
    "state\n",
    "\n"
   ]
  },
  {
   "cell_type": "code",
   "execution_count": 8,
   "metadata": {},
   "outputs": [],
   "source": [
    "import time"
   ]
  },
  {
   "cell_type": "code",
   "execution_count": 9,
   "metadata": {},
   "outputs": [
    {
     "name": "stderr",
     "output_type": "stream",
     "text": [
      "/home/ms/miniconda3/envs/gmax/lib/python3.9/site-packages/jax/_src/ops/scatter.py:87: FutureWarning: scatter inputs have incompatible types: cannot safely cast value from dtype=int64 to dtype=int32. In future JAX releases this will result in an error.\n",
      "  warnings.warn(\"scatter inputs have incompatible types: cannot safely cast \"\n"
     ]
    },
    {
     "name": "stdout",
     "output_type": "stream",
     "text": [
      "elapsed time: 18.821195602416992\n"
     ]
    }
   ],
   "source": [
    "@jax.jit\n",
    "def sim(state, neighbor):\n",
    "    def body_fn(i, state):\n",
    "        state, neighbor = state\n",
    "        neighbor = neighbor.update(state.position)\n",
    "        state = apply_fn(state, neighbor=neighbor)\n",
    "        return state, neighbor\n",
    "    return jax.lax.fori_loop(0, 5, body_fn, (state, neighbor))\n",
    "\n",
    "positions = []\n",
    "forces = []\n",
    "start = time.time()\n",
    "step = 0\n",
    "while step < 500*4:\n",
    "    new_state, neighbor = sim(state, neighbor)\n",
    "    if neighbor.did_buffer_overflow:\n",
    "        print('Neighbor list overflowed, reallocating.')\n",
    "        neighbor = neighbor_fn.allocate(state.position)\n",
    "    else:\n",
    "        state = new_state\n",
    "        positions += [state.position]\n",
    "        forces += [state.force]\n",
    "        step += 1\n",
    "\n",
    "end = time.time()\n",
    "print(f\"elapsed time: {end - start}\") #\n",
    "# steps: 20, time: 18.952657222747803\n",
    "# steps: 5, time: 18.685712099075317"
   ]
  },
  {
   "cell_type": "code",
   "execution_count": 11,
   "metadata": {},
   "outputs": [
    {
     "data": {
      "text/plain": [
       "DeviceArray([[-5.3700625 ,  0.93344789, -0.02903904],\n",
       "             [-3.99913346,  1.53128384,  0.22864531],\n",
       "             [-5.75533277,  1.28144812, -1.00352859],\n",
       "             [-6.10013318,  1.19934828,  0.74430096],\n",
       "             [-5.26454138, -0.1690307 , -0.11271822],\n",
       "             [-4.03551175,  2.63355587,  0.2033728 ],\n",
       "             [-3.12844699,  0.99017069, -0.77384016],\n",
       "             [-3.60759242,  1.25281025,  1.22729059],\n",
       "             [-2.28584843,  1.46637783, -0.68298644]], dtype=float64)"
      ]
     },
     "execution_count": 11,
     "metadata": {},
     "output_type": "execute_result"
    }
   ],
   "source": [
    "positions[-1]"
   ]
  },
  {
   "cell_type": "code",
   "execution_count": 14,
   "metadata": {},
   "outputs": [
    {
     "data": {
      "text/plain": [
       "<Popen: returncode: None args: ['/home/ms/miniconda3/envs/gmax/bin/python', ...>"
      ]
     },
     "execution_count": 14,
     "metadata": {},
     "output_type": "execute_result"
    }
   ],
   "source": [
    "from ase.visualize import view\n",
    "atoms_list = []\n",
    "\n",
    "for pos in positions:\n",
    "    new_atoms = Atoms(atoms.symbols, pos, cell=atoms.cell)\n",
    "    atoms_list.append(new_atoms)\n",
    "view(atoms_list)\n"
   ]
  },
  {
   "cell_type": "code",
   "execution_count": null,
   "metadata": {},
   "outputs": [],
   "source": []
  }
 ],
 "metadata": {
  "kernelspec": {
   "display_name": "Python 3.9.13 ('gmax')",
   "language": "python",
   "name": "python3"
  },
  "language_info": {
   "codemirror_mode": {
    "name": "ipython",
    "version": 3
   },
   "file_extension": ".py",
   "mimetype": "text/x-python",
   "name": "python",
   "nbconvert_exporter": "python",
   "pygments_lexer": "ipython3",
   "version": "3.9.13"
  },
  "orig_nbformat": 4,
  "vscode": {
   "interpreter": {
    "hash": "ce3e86de406c2115ac01f523c46761429597fe11fd72e9fa23bed5c8486db6ed"
   }
  }
 },
 "nbformat": 4,
 "nbformat_minor": 2
}
